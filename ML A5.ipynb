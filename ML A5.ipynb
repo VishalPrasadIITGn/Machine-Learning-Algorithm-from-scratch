{
 "cells": [
  {
   "cell_type": "markdown",
   "metadata": {},
   "source": [
    "# Reading Data"
   ]
  },
  {
   "cell_type": "markdown",
   "metadata": {},
   "source": [
    "#### Reading Data for iris dataset"
   ]
  },
  {
   "cell_type": "code",
   "execution_count": 1,
   "metadata": {},
   "outputs": [
    {
     "data": {
      "text/html": [
       "<div>\n",
       "<style scoped>\n",
       "    .dataframe tbody tr th:only-of-type {\n",
       "        vertical-align: middle;\n",
       "    }\n",
       "\n",
       "    .dataframe tbody tr th {\n",
       "        vertical-align: top;\n",
       "    }\n",
       "\n",
       "    .dataframe thead th {\n",
       "        text-align: right;\n",
       "    }\n",
       "</style>\n",
       "<table border=\"1\" class=\"dataframe\">\n",
       "  <thead>\n",
       "    <tr style=\"text-align: right;\">\n",
       "      <th></th>\n",
       "      <th>SepalLength</th>\n",
       "      <th>SepalWidth</th>\n",
       "      <th>PetalLength</th>\n",
       "      <th>PetalWidth</th>\n",
       "      <th>label</th>\n",
       "    </tr>\n",
       "  </thead>\n",
       "  <tbody>\n",
       "    <tr>\n",
       "      <th>0</th>\n",
       "      <td>5.1</td>\n",
       "      <td>3.5</td>\n",
       "      <td>1.4</td>\n",
       "      <td>0.2</td>\n",
       "      <td>Iris-setosa</td>\n",
       "    </tr>\n",
       "    <tr>\n",
       "      <th>1</th>\n",
       "      <td>4.9</td>\n",
       "      <td>3.0</td>\n",
       "      <td>1.4</td>\n",
       "      <td>0.2</td>\n",
       "      <td>Iris-setosa</td>\n",
       "    </tr>\n",
       "    <tr>\n",
       "      <th>2</th>\n",
       "      <td>4.7</td>\n",
       "      <td>3.2</td>\n",
       "      <td>1.3</td>\n",
       "      <td>0.2</td>\n",
       "      <td>Iris-setosa</td>\n",
       "    </tr>\n",
       "    <tr>\n",
       "      <th>3</th>\n",
       "      <td>4.6</td>\n",
       "      <td>3.1</td>\n",
       "      <td>1.5</td>\n",
       "      <td>0.2</td>\n",
       "      <td>Iris-setosa</td>\n",
       "    </tr>\n",
       "    <tr>\n",
       "      <th>4</th>\n",
       "      <td>5.0</td>\n",
       "      <td>3.6</td>\n",
       "      <td>1.4</td>\n",
       "      <td>0.2</td>\n",
       "      <td>Iris-setosa</td>\n",
       "    </tr>\n",
       "  </tbody>\n",
       "</table>\n",
       "</div>"
      ],
      "text/plain": [
       "   SepalLength  SepalWidth  PetalLength  PetalWidth        label\n",
       "0          5.1         3.5          1.4         0.2  Iris-setosa\n",
       "1          4.9         3.0          1.4         0.2  Iris-setosa\n",
       "2          4.7         3.2          1.3         0.2  Iris-setosa\n",
       "3          4.6         3.1          1.5         0.2  Iris-setosa\n",
       "4          5.0         3.6          1.4         0.2  Iris-setosa"
      ]
     },
     "execution_count": 1,
     "metadata": {},
     "output_type": "execute_result"
    }
   ],
   "source": [
    "import numpy as np\n",
    "import pandas as pd\n",
    "df = pd.read_csv(\"irisself.txt\") # Import data\n",
    "#df = df.ix[:,'SalesID':'ProductGroupDesc'] # Remove extraneous features\n",
    "#df # Show our data\n",
    "df.head()"
   ]
  },
  {
   "cell_type": "markdown",
   "metadata": {},
   "source": [
    "#### Splitting tran test Dataset for IRIS"
   ]
  },
  {
   "cell_type": "markdown",
   "metadata": {},
   "source": [
    " "
   ]
  },
  {
   "cell_type": "code",
   "execution_count": 2,
   "metadata": {},
   "outputs": [],
   "source": [
    "input_df=df.iloc[:,0:4]\n",
    "output_df=df.iloc[:,4]\n",
    "from sklearn.model_selection import train_test_split\n",
    "train_input_df, test_input_df, train_output_df, test_output_df = train_test_split(input_df, output_df, test_size=0.33, random_state=0,shuffle=True)\n",
    "#print(train_output_df.iloc[1:20])"
   ]
  },
  {
   "cell_type": "markdown",
   "metadata": {},
   "source": [
    "#### Reading data for Real estate dataset"
   ]
  },
  {
   "cell_type": "code",
   "execution_count": 3,
   "metadata": {},
   "outputs": [
    {
     "data": {
      "text/html": [
       "<div>\n",
       "<style scoped>\n",
       "    .dataframe tbody tr th:only-of-type {\n",
       "        vertical-align: middle;\n",
       "    }\n",
       "\n",
       "    .dataframe tbody tr th {\n",
       "        vertical-align: top;\n",
       "    }\n",
       "\n",
       "    .dataframe thead th {\n",
       "        text-align: right;\n",
       "    }\n",
       "</style>\n",
       "<table border=\"1\" class=\"dataframe\">\n",
       "  <thead>\n",
       "    <tr style=\"text-align: right;\">\n",
       "      <th></th>\n",
       "      <th>No</th>\n",
       "      <th>X1 transaction date</th>\n",
       "      <th>X2 house age</th>\n",
       "      <th>X3 distance to the nearest MRT station</th>\n",
       "      <th>X4 number of convenience stores</th>\n",
       "      <th>X5 latitude</th>\n",
       "      <th>X6 longitude</th>\n",
       "      <th>Y house price of unit area</th>\n",
       "    </tr>\n",
       "  </thead>\n",
       "  <tbody>\n",
       "    <tr>\n",
       "      <th>0</th>\n",
       "      <td>1</td>\n",
       "      <td>2012.917</td>\n",
       "      <td>32.0</td>\n",
       "      <td>84.87882</td>\n",
       "      <td>10</td>\n",
       "      <td>24.98298</td>\n",
       "      <td>121.54024</td>\n",
       "      <td>37.9</td>\n",
       "    </tr>\n",
       "    <tr>\n",
       "      <th>1</th>\n",
       "      <td>2</td>\n",
       "      <td>2012.917</td>\n",
       "      <td>19.5</td>\n",
       "      <td>306.59470</td>\n",
       "      <td>9</td>\n",
       "      <td>24.98034</td>\n",
       "      <td>121.53951</td>\n",
       "      <td>42.2</td>\n",
       "    </tr>\n",
       "    <tr>\n",
       "      <th>2</th>\n",
       "      <td>3</td>\n",
       "      <td>2013.583</td>\n",
       "      <td>13.3</td>\n",
       "      <td>561.98450</td>\n",
       "      <td>5</td>\n",
       "      <td>24.98746</td>\n",
       "      <td>121.54391</td>\n",
       "      <td>47.3</td>\n",
       "    </tr>\n",
       "    <tr>\n",
       "      <th>3</th>\n",
       "      <td>4</td>\n",
       "      <td>2013.500</td>\n",
       "      <td>13.3</td>\n",
       "      <td>561.98450</td>\n",
       "      <td>5</td>\n",
       "      <td>24.98746</td>\n",
       "      <td>121.54391</td>\n",
       "      <td>54.8</td>\n",
       "    </tr>\n",
       "    <tr>\n",
       "      <th>4</th>\n",
       "      <td>5</td>\n",
       "      <td>2012.833</td>\n",
       "      <td>5.0</td>\n",
       "      <td>390.56840</td>\n",
       "      <td>5</td>\n",
       "      <td>24.97937</td>\n",
       "      <td>121.54245</td>\n",
       "      <td>43.1</td>\n",
       "    </tr>\n",
       "  </tbody>\n",
       "</table>\n",
       "</div>"
      ],
      "text/plain": [
       "   No  X1 transaction date  X2 house age  \\\n",
       "0   1             2012.917          32.0   \n",
       "1   2             2012.917          19.5   \n",
       "2   3             2013.583          13.3   \n",
       "3   4             2013.500          13.3   \n",
       "4   5             2012.833           5.0   \n",
       "\n",
       "   X3 distance to the nearest MRT station  X4 number of convenience stores  \\\n",
       "0                                84.87882                               10   \n",
       "1                               306.59470                                9   \n",
       "2                               561.98450                                5   \n",
       "3                               561.98450                                5   \n",
       "4                               390.56840                                5   \n",
       "\n",
       "   X5 latitude  X6 longitude  Y house price of unit area  \n",
       "0     24.98298     121.54024                        37.9  \n",
       "1     24.98034     121.53951                        42.2  \n",
       "2     24.98746     121.54391                        47.3  \n",
       "3     24.98746     121.54391                        54.8  \n",
       "4     24.97937     121.54245                        43.1  "
      ]
     },
     "execution_count": 3,
     "metadata": {},
     "output_type": "execute_result"
    }
   ],
   "source": [
    "df2 = pd.read_csv(\"Real estate valuation data set.csv\") # Import data\n",
    "df2.head()"
   ]
  },
  {
   "cell_type": "markdown",
   "metadata": {},
   "source": [
    "#### Splitting training Test Dataset"
   ]
  },
  {
   "cell_type": "code",
   "execution_count": 4,
   "metadata": {},
   "outputs": [],
   "source": [
    "i=df2.iloc[:,1:7]\n",
    "o=df2.iloc[:,7]\n",
    "t_in=i.iloc[0:300,:]\n",
    "#print(training_input_feat_df)  v\n",
    "T_in=i.iloc[301:414,:]\n",
    "#print(testing_input_feat_df)    v\n",
    "t_out=o.iloc[0:300]\n",
    "#print(training_output_feat_df)\n",
    "T_out=o.iloc[301:414]\n",
    "#print(testing_output_feat_df)"
   ]
  },
  {
   "cell_type": "markdown",
   "metadata": {},
   "source": [
    "# Question Number 1"
   ]
  },
  {
   "cell_type": "markdown",
   "metadata": {},
   "source": [
    "### Qn No: 1 (A) - KNN Function"
   ]
  },
  {
   "cell_type": "code",
   "execution_count": 5,
   "metadata": {},
   "outputs": [],
   "source": [
    "import scipy.spatial.distance\n",
    "\n",
    "#print(train_input_df.iloc[:,0])\n",
    "def KNN_predict(method,train_input_df,train_output_df,test_input_df,k,dista):\n",
    "    #k=10\n",
    "    #dista='Cos'\n",
    "    #method='cla'\n",
    "    final_list=[]\n",
    "    for t in range(len(test_input_df)):\n",
    "        #case=test_input_df.iloc[0,:]\n",
    "        dist=[]\n",
    "        final_indices=[]\n",
    "        case=test_input_df.iloc[t,:]\n",
    "        #print(case)\n",
    "        if (dista=='Euc'):\n",
    "            for x in range(len(train_input_df)):\n",
    "                temp=np.sqrt(np.sum((train_input_df.iloc[x,:]-case)**2))\n",
    "                dist.append(temp)\n",
    "        elif (dista=='Man'):\n",
    "            for x in range(len(train_input_df)):\n",
    "                temp=np.sum(abs((train_input_df.iloc[x,:]-case)))\n",
    "                dist.append(temp)\n",
    "        elif (dista=='Cos'):\n",
    "            for x in range(len(train_input_df)):\n",
    "                #temp=np.sum(abs((train_input_df.iloc[x,:]-case)))\n",
    "                temp=scipy.spatial.distance.cosine(train_input_df.iloc[x,:],case)\n",
    "                dist.append(temp)\n",
    "            #print(dist)\n",
    "        indic=np.argsort(dist)\n",
    "        d2=np.asarray(dist)\n",
    "        #print(d2[indic])\n",
    "        \n",
    "        final_indices=indic[0:k]\n",
    "        #print(final_indices)\n",
    "        neighbours_in=train_input_df.iloc[final_indices]\n",
    "        n_out=[]\n",
    "        for c in final_indices:\n",
    "            n_out.append(train_output_df.iloc[c])\n",
    "        #print(n_out)\n",
    "        #print(dist.asarray[indic])\n",
    "        if (method == 'cla'):\n",
    "            t=set(n_out)\n",
    "            out=max(set(n_out),key=n_out.count)\n",
    "        elif (method == 'reg'):\n",
    "            out=((np.sum(n_out))/k)\n",
    "        #print(case)\n",
    "        final_list.append(out)\n",
    "    #print(final_list)\n",
    "    return final_list\n",
    "    "
   ]
  },
  {
   "cell_type": "markdown",
   "metadata": {},
   "source": [
    "#### Calling KNN Predict Function for all three distance parameter(Euclidiean, Manhattan, Cosine)"
   ]
  },
  {
   "cell_type": "code",
   "execution_count": 6,
   "metadata": {},
   "outputs": [
    {
     "name": "stdout",
     "output_type": "stream",
     "text": [
      "Accuracy for \n",
      " Eucledian 0.98 Manhattan 0.98 Cosine 0.96\n"
     ]
    }
   ],
   "source": [
    "res1=KNN_predict(method='cla',train_input_df=train_input_df,train_output_df=train_output_df,test_input_df=test_input_df,k=5,dista='Euc')\n",
    "#print(res)\n",
    "res2=KNN_predict(method='cla',train_input_df=train_input_df,train_output_df=train_output_df,test_input_df=test_input_df,k=5,dista='Man')\n",
    "res3=KNN_predict(method='cla',train_input_df=train_input_df,train_output_df=train_output_df,test_input_df=test_input_df,k=5,dista='Cos')\n",
    "import sklearn\n",
    "acc1=sklearn.metrics.accuracy_score(test_output_df,res1)\n",
    "acc2=sklearn.metrics.accuracy_score(test_output_df,res2)\n",
    "acc3=sklearn.metrics.accuracy_score(test_output_df,res3)\n",
    "\n",
    "print(\"Accuracy for \\n\",\"Eucledian\",acc1,\"Manhattan\",acc2,\"Cosine\",acc3)"
   ]
  },
  {
   "cell_type": "markdown",
   "metadata": {},
   "source": [
    "### Qn No: 1 (B) -  Varying number of Features and Train instances"
   ]
  },
  {
   "cell_type": "code",
   "execution_count": 7,
   "metadata": {},
   "outputs": [
    {
     "name": "stdout",
     "output_type": "stream",
     "text": [
      "No of Features: 1 No of Example 30 Time taken 6.246429681777954\n",
      "No of Features: 1 No of Example 50 Time taken 10.004082441329956\n",
      "No of Features: 1 No of Example 70 Time taken 12.760034799575806\n",
      "No of Features: 1 No of Example 90 Time taken 14.743438005447388\n",
      "No of Features: 2 No of Example 30 Time taken 5.275734186172485\n",
      "No of Features: 2 No of Example 50 Time taken 9.8189537525177\n",
      "No of Features: 2 No of Example 70 Time taken 12.122608661651611\n",
      "No of Features: 2 No of Example 90 Time taken 15.002602577209473\n",
      "No of Features: 3 No of Example 30 Time taken 4.775403022766113\n",
      "No of Features: 3 No of Example 50 Time taken 8.498016834259033\n",
      "No of Features: 3 No of Example 70 Time taken 11.62622618675232\n",
      "No of Features: 3 No of Example 90 Time taken 14.510303974151611\n",
      "No of Features: 4 No of Example 30 Time taken 2.5718419551849365\n",
      "No of Features: 4 No of Example 50 Time taken 4.5001654624938965\n",
      "No of Features: 4 No of Example 70 Time taken 5.954209804534912\n",
      "No of Features: 4 No of Example 90 Time taken 8.455988883972168\n"
     ]
    }
   ],
   "source": [
    "import time\n",
    "#print(train_output_df)\n",
    "time_list=[]\n",
    "for x in range(1,5):\n",
    "    for y in range (30,len(train_input_df)-1,20):\n",
    "        t=0\n",
    "        #print(\"no of features\", x, \"Eample\", y)\n",
    "        start=time.time()\n",
    "        tr=train_input_df.iloc[0:y,0:x]\n",
    "        ts=train_output_df.iloc[0:y]\n",
    "        res=KNN_predict(method='cla',train_input_df=tr,train_output_df=ts,test_input_df=test_input_df,k=5,dista='Euc')\n",
    "        end=time.time()\n",
    "        t=end-start\n",
    "        print(\"No of Features:\", x, \"No of Example\", y,\"Time taken\",t)\n",
    "        time_list.append(t)\n",
    "#print(time_list)"
   ]
  },
  {
   "cell_type": "markdown",
   "metadata": {},
   "source": [
    "#### Theoretical Time complexity for KNN is O(kdn) n= no of eamples d= no of features\n",
    "#### With increase in no of features: runtime decreases\n",
    "#### With increase in no of examples: runtime increases"
   ]
  },
  {
   "cell_type": "markdown",
   "metadata": {},
   "source": [
    "#### Reshaping time matrix"
   ]
  },
  {
   "cell_type": "code",
   "execution_count": 8,
   "metadata": {},
   "outputs": [
    {
     "data": {
      "text/plain": [
       "array([[ 6.24642968, 10.00408244, 12.7600348 , 14.74343801],\n",
       "       [ 5.27573419,  9.81895375, 12.12260866, 15.00260258],\n",
       "       [ 4.77540302,  8.49801683, 11.62622619, 14.51030397],\n",
       "       [ 2.57184196,  4.50016546,  5.9542098 ,  8.45598888]])"
      ]
     },
     "execution_count": 8,
     "metadata": {},
     "output_type": "execute_result"
    }
   ],
   "source": [
    "time_list=np.asarray(time_list)\n",
    "np.reshape(time_list,[-1,4])"
   ]
  },
  {
   "cell_type": "markdown",
   "metadata": {},
   "source": [
    "### Running for Regression Problem"
   ]
  },
  {
   "cell_type": "code",
   "execution_count": 9,
   "metadata": {},
   "outputs": [],
   "source": [
    "res2=KNN_predict(method='reg',train_input_df=t_in,train_output_df=t_out,test_input_df=T_in,k=5,dista='Euc')"
   ]
  },
  {
   "cell_type": "markdown",
   "metadata": {},
   "source": [
    "# Question Number 2"
   ]
  },
  {
   "cell_type": "markdown",
   "metadata": {},
   "source": [
    "### 2(a) 5-fold Cross validation on train test and validation dataset for K=1 to5"
   ]
  },
  {
   "cell_type": "code",
   "execution_count": 24,
   "metadata": {},
   "outputs": [
    {
     "name": "stdout",
     "output_type": "stream",
     "text": [
      "Train error is \n",
      " [[0.         0.         0.         0.         0.        ]\n",
      " [0.02809451 0.01679865 0.03155083 0.02912644 0.02977206]\n",
      " [0.03327906 0.02116324 0.03640099 0.03310008 0.03396354]\n",
      " [0.03654642 0.02751048 0.04043017 0.03485758 0.03614748]]\n",
      "Test error is \n",
      " [[0.04661874 0.07674814 0.05069427 0.08679919 0.0524469 ]\n",
      " [0.03264278 0.0790451  0.04194983 0.05622749 0.03716658]\n",
      " [0.03597333 0.07641101 0.05301516 0.05515873 0.04115735]\n",
      " [0.0337232  0.06920334 0.06002697 0.05800107 0.04093981]]\n",
      "Validn error is \n",
      " [[0.02732783 0.0238346  0.02459039 0.07022024 0.02437579]\n",
      " [0.02645899 0.02970743 0.03045249 0.04845672 0.02935049]\n",
      " [0.03250427 0.02838498 0.03305219 0.03984865 0.0353274 ]\n",
      " [0.03779959 0.02770283 0.03920904 0.0459192  0.03882988]]\n"
     ]
    }
   ],
   "source": [
    "# scikit-learn k-fold cross-validation\n",
    "from numpy import array\n",
    "from sklearn.model_selection import KFold\n",
    "# data sample\n",
    "data = df2.iloc[0:350,1:-1]\n",
    "validn=df2.iloc[351:-1,1:-1]\n",
    "# prepare cross validation\n",
    "kfold = KFold(5, True, 1)\n",
    "# enumerate splits\n",
    "from sklearn.neighbors import KNeighborsRegressor\n",
    "test_error=[]\n",
    "train_error=[]\n",
    "validn_error=[]\n",
    "for knn in range(1,5):\n",
    "    for train, test in kfold.split(data):\n",
    "        neigh = KNeighborsRegressor(n_neighbors=knn)\n",
    "        l=len(train)-2\n",
    "        X=data.iloc[train,0:l]\n",
    "        Y=data.iloc[train,-1]\n",
    "        X_t=data.iloc[test,0:l]\n",
    "        Y_t=data.iloc[test,-1]\n",
    "        X_v=validn.iloc[:,0:l]\n",
    "        Y_v=validn.iloc[:,-1]\n",
    "        neigh.fit(X,Y)\n",
    "        temp1=neigh.predict(X)\n",
    "        temp2=neigh.predict(X_t)\n",
    "        temp3=neigh.predict(X_v)\n",
    "        e1=np.sqrt((np.sum((temp1-Y)**2))/len(Y))*1000\n",
    "        e2=np.sqrt((np.sum((temp2-Y_t)**2))/len(Y_t))*1000\n",
    "        e3=np.sqrt((np.sum((temp3-Y_v)**2))/len(Y_v))*1000\n",
    "    \n",
    "        train_error.append(e1)\n",
    "        test_error.append(e2)\n",
    "        validn_error.append(e3)\n",
    "#np.reshape(np.asarray(train_error),(3,5))\n",
    "train_np=np.asarray(train_error)\n",
    "test_np=np.asarray(test_error)\n",
    "validn_np=np.asarray(validn_error)\n",
    "\n",
    "train1_np=np.reshape(train_np,(4,5))\n",
    "test1_np=np.reshape(test_np,(4,5))\n",
    "validn1_np=np.reshape(validn_np,(4,5))\n",
    "\n",
    "print(\"Train error is \\n\",train1_np)\n",
    "print(\"Test error is \\n\",test1_np)\n",
    "print(\"Validn error is \\n\",validn1_np)"
   ]
  },
  {
   "cell_type": "markdown",
   "metadata": {},
   "source": [
    "#### Optimal values of K for each Test Fold"
   ]
  },
  {
   "cell_type": "code",
   "execution_count": 25,
   "metadata": {},
   "outputs": [
    {
     "name": "stdout",
     "output_type": "stream",
     "text": [
      "Optimal Values of K is\n",
      " [2 4 2 3 2]\n"
     ]
    }
   ],
   "source": [
    "q=np.argmin(test1_np,0)\n",
    "Opt_K=q+1\n",
    "print(\"Optimal Values of K is\\n\",Opt_K)"
   ]
  },
  {
   "cell_type": "markdown",
   "metadata": {},
   "source": [
    "### 2(b) K Fold Cross validation for scaled features"
   ]
  },
  {
   "cell_type": "code",
   "execution_count": 26,
   "metadata": {},
   "outputs": [],
   "source": [
    "df3=df2\n",
    "for x in range(0,len(df2.iloc[1,1:7])):\n",
    "    df3.iloc[:,x]=(df2.iloc[:,x])/max((df2.iloc[:,x]))\n",
    "#df3.head()"
   ]
  },
  {
   "cell_type": "code",
   "execution_count": 28,
   "metadata": {},
   "outputs": [
    {
     "name": "stdout",
     "output_type": "stream",
     "text": [
      "Train error is \n",
      " [[0.         0.         0.         0.         0.        ]\n",
      " [0.02809451 0.01679865 0.03155083 0.02912644 0.02977206]\n",
      " [0.03327906 0.02116324 0.03640099 0.03310008 0.03396354]\n",
      " [0.03654642 0.02751048 0.04043017 0.03485758 0.03614748]]\n",
      "Test error is \n",
      " [[0.04661874 0.07674814 0.05069427 0.08679919 0.0524469 ]\n",
      " [0.03264278 0.0790451  0.04194983 0.05622749 0.03716658]\n",
      " [0.03597333 0.07641101 0.05301516 0.05515873 0.04115735]\n",
      " [0.0337232  0.06920334 0.06002697 0.05800107 0.04093981]]\n",
      "Validn error is \n",
      " [[0.02732783 0.0238346  0.02459039 0.07022024 0.02437579]\n",
      " [0.02645899 0.02970743 0.03045249 0.04845672 0.02935049]\n",
      " [0.03250427 0.02838498 0.03305219 0.03984865 0.0353274 ]\n",
      " [0.03779959 0.02770283 0.03920904 0.0459192  0.03882988]]\n"
     ]
    }
   ],
   "source": [
    "# scikit-learn k-fold cross-validation\n",
    "from numpy import array\n",
    "from sklearn.model_selection import KFold\n",
    "# data sample\n",
    "data = df3.iloc[0:350,1:-1]\n",
    "validn=df3.iloc[351:-1,1:-1]\n",
    "# prepare cross validation\n",
    "kfold = KFold(5, True, 1)\n",
    "# enumerate splits\n",
    "from sklearn.neighbors import KNeighborsRegressor\n",
    "test_error=[]\n",
    "train_error=[]\n",
    "validn_error=[]\n",
    "for knn in range(1,5):\n",
    "    for train, test in kfold.split(data):\n",
    "        neigh = KNeighborsRegressor(n_neighbors=knn)\n",
    "        l=len(train)-2\n",
    "        \n",
    "        X=data.iloc[train,0:l]\n",
    "        Y=data.iloc[train,-1]\n",
    "        X_t=data.iloc[test,0:l]\n",
    "        Y_t=data.iloc[test,-1]\n",
    "        X_v=validn.iloc[:,0:l]\n",
    "        Y_v=validn.iloc[:,-1]\n",
    "        neigh.fit(X,Y)\n",
    "        temp1=neigh.predict(X)\n",
    "        temp2=neigh.predict(X_t)\n",
    "        temp3=neigh.predict(X_v)\n",
    "        e1=np.sqrt((np.sum((temp1-Y)**2))/len(Y))*1000\n",
    "        e2=np.sqrt((np.sum((temp2-Y_t)**2))/len(Y_t))*1000\n",
    "        e3=np.sqrt((np.sum((temp3-Y_v)**2))/len(Y_v))*1000\n",
    "    \n",
    "        train_error.append(e1)\n",
    "        test_error.append(e2)\n",
    "        validn_error.append(e3)\n",
    "#print(train_error)\n",
    "#np.reshape(np.asarray(train_error),(3,5))\n",
    "train_np=np.asarray(train_error)\n",
    "test_np=np.asarray(test_error)\n",
    "validn_np=np.asarray(validn_error)\n",
    "\n",
    "train_np=np.reshape(train_np,(4,5))\n",
    "test_np=np.reshape(test_np,(4,5))\n",
    "validn_np=np.reshape(validn_np,(4,5))\n",
    "\n",
    "print(\"Train error is \\n\",train_np)\n",
    "print(\"Test error is \\n\",test_np)\n",
    "print(\"Validn error is \\n\",validn_np)"
   ]
  },
  {
   "cell_type": "markdown",
   "metadata": {},
   "source": [
    "#### Ideally with scaling in feature error should decrease."
   ]
  },
  {
   "cell_type": "markdown",
   "metadata": {},
   "source": [
    "#### Optimal Values of K for test folds"
   ]
  },
  {
   "cell_type": "code",
   "execution_count": 29,
   "metadata": {},
   "outputs": [
    {
     "name": "stdout",
     "output_type": "stream",
     "text": [
      "Optimal Values of K is [2 4 2 3 2]\n"
     ]
    }
   ],
   "source": [
    "s=np.argmin(test_np,0)\n",
    "Best_K=s+1\n",
    "print(\"Optimal Values of K is\",Best_K)"
   ]
  },
  {
   "cell_type": "markdown",
   "metadata": {},
   "source": [
    "### 2(c) Train, Test error as a function of K"
   ]
  },
  {
   "cell_type": "code",
   "execution_count": 15,
   "metadata": {},
   "outputs": [
    {
     "data": {
      "text/html": [
       "<div>\n",
       "<style scoped>\n",
       "    .dataframe tbody tr th:only-of-type {\n",
       "        vertical-align: middle;\n",
       "    }\n",
       "\n",
       "    .dataframe tbody tr th {\n",
       "        vertical-align: top;\n",
       "    }\n",
       "\n",
       "    .dataframe thead th {\n",
       "        text-align: right;\n",
       "    }\n",
       "</style>\n",
       "<table border=\"1\" class=\"dataframe\">\n",
       "  <thead>\n",
       "    <tr style=\"text-align: right;\">\n",
       "      <th></th>\n",
       "      <th>No</th>\n",
       "      <th>X1 transaction date</th>\n",
       "      <th>X2 house age</th>\n",
       "      <th>X3 distance to the nearest MRT station</th>\n",
       "      <th>X4 number of convenience stores</th>\n",
       "      <th>X5 latitude</th>\n",
       "      <th>X6 longitude</th>\n",
       "      <th>Y house price of unit area</th>\n",
       "    </tr>\n",
       "  </thead>\n",
       "  <tbody>\n",
       "    <tr>\n",
       "      <th>0</th>\n",
       "      <td>1</td>\n",
       "      <td>2012.917</td>\n",
       "      <td>32.0</td>\n",
       "      <td>84.87882</td>\n",
       "      <td>10</td>\n",
       "      <td>24.98298</td>\n",
       "      <td>121.54024</td>\n",
       "      <td>37.9</td>\n",
       "    </tr>\n",
       "    <tr>\n",
       "      <th>1</th>\n",
       "      <td>2</td>\n",
       "      <td>2012.917</td>\n",
       "      <td>19.5</td>\n",
       "      <td>306.59470</td>\n",
       "      <td>9</td>\n",
       "      <td>24.98034</td>\n",
       "      <td>121.53951</td>\n",
       "      <td>42.2</td>\n",
       "    </tr>\n",
       "    <tr>\n",
       "      <th>2</th>\n",
       "      <td>3</td>\n",
       "      <td>2013.583</td>\n",
       "      <td>13.3</td>\n",
       "      <td>561.98450</td>\n",
       "      <td>5</td>\n",
       "      <td>24.98746</td>\n",
       "      <td>121.54391</td>\n",
       "      <td>47.3</td>\n",
       "    </tr>\n",
       "    <tr>\n",
       "      <th>3</th>\n",
       "      <td>4</td>\n",
       "      <td>2013.500</td>\n",
       "      <td>13.3</td>\n",
       "      <td>561.98450</td>\n",
       "      <td>5</td>\n",
       "      <td>24.98746</td>\n",
       "      <td>121.54391</td>\n",
       "      <td>54.8</td>\n",
       "    </tr>\n",
       "    <tr>\n",
       "      <th>4</th>\n",
       "      <td>5</td>\n",
       "      <td>2012.833</td>\n",
       "      <td>5.0</td>\n",
       "      <td>390.56840</td>\n",
       "      <td>5</td>\n",
       "      <td>24.97937</td>\n",
       "      <td>121.54245</td>\n",
       "      <td>43.1</td>\n",
       "    </tr>\n",
       "  </tbody>\n",
       "</table>\n",
       "</div>"
      ],
      "text/plain": [
       "   No  X1 transaction date  X2 house age  \\\n",
       "0   1             2012.917          32.0   \n",
       "1   2             2012.917          19.5   \n",
       "2   3             2013.583          13.3   \n",
       "3   4             2013.500          13.3   \n",
       "4   5             2012.833           5.0   \n",
       "\n",
       "   X3 distance to the nearest MRT station  X4 number of convenience stores  \\\n",
       "0                                84.87882                               10   \n",
       "1                               306.59470                                9   \n",
       "2                               561.98450                                5   \n",
       "3                               561.98450                                5   \n",
       "4                               390.56840                                5   \n",
       "\n",
       "   X5 latitude  X6 longitude  Y house price of unit area  \n",
       "0     24.98298     121.54024                        37.9  \n",
       "1     24.98034     121.53951                        42.2  \n",
       "2     24.98746     121.54391                        47.3  \n",
       "3     24.98746     121.54391                        54.8  \n",
       "4     24.97937     121.54245                        43.1  "
      ]
     },
     "execution_count": 15,
     "metadata": {},
     "output_type": "execute_result"
    }
   ],
   "source": [
    "import pandas as pd\n",
    "#import pandas as pd\n",
    "df4 = pd.read_csv(\"Real estate valuation data set.csv\") # Import data\n",
    "#df = df.ix[:,'SalesID':'ProductGroupDesc'] # Remove extraneous features\n",
    "#df # Show our data\n",
    "df4.head()"
   ]
  },
  {
   "cell_type": "markdown",
   "metadata": {},
   "source": [
    "### Splitting the dataset"
   ]
  },
  {
   "cell_type": "code",
   "execution_count": 30,
   "metadata": {},
   "outputs": [],
   "source": [
    "train_in=df4.iloc[1:350,1:6]\n",
    "train_out=df4.iloc[1:350,-1]\n",
    "test_in=df4.iloc[351:-1,1:6]\n",
    "test_out=df4.iloc[351:-1,-1]\n",
    "\n",
    "#print(df4.iloc[350:365,:])"
   ]
  },
  {
   "cell_type": "code",
   "execution_count": 31,
   "metadata": {},
   "outputs": [
    {
     "name": "stdout",
     "output_type": "stream",
     "text": [
      "Train error for diff K is\n",
      " [0.9710567899964866, 4.544108090495744, 5.968245857193471, 6.627008805034571, 6.874632993590392, 7.199224594773946, 7.47211423108566, 7.688886298466442, 7.8692495134847205]\n",
      "Test error for diff K is\n",
      " [8.249066418340535, 7.174720405927035, 7.32823380854406, 7.212960165898514, 7.185528467332012, 7.015472212076885, 6.7548197992306935, 6.712889510834914, 6.690910666240293]\n"
     ]
    },
    {
     "data": {
      "image/png": "[encoded data removed]",
      "text/plain": [
       "<Figure size 432x288 with 1 Axes>"
      ]
     },
     "metadata": {
      "needs_background": "light"
     },
     "output_type": "display_data"
    },
    {
     "data": {
      "image/png": "[encoded data removed]",
      "text/plain": [
       "<Figure size 432x288 with 1 Axes>"
      ]
     },
     "metadata": {
      "needs_background": "light"
     },
     "output_type": "display_data"
    },
    {
     "name": "stdout",
     "output_type": "stream",
     "text": [
      "Max error indexes are \n",
      " [10, 10, 10, 10, 10, 10, 10, 10, 51]\n",
      "Max error values are \n",
      " [array([36.4]), array([28.4]), array([26.63333333]), array([24.125]), array([24.7]), array([21.2]), array([19.64285714]), array([18.725]), array([18.1])]\n"
     ]
    }
   ],
   "source": [
    "### import numpy as np\n",
    "from sklearn.neighbors import KNeighborsRegressor\n",
    "import matplotlib.pyplot as plt\n",
    "#neigh = KNeighborsRegressor(n_neighbors=knn)\n",
    "train23_err=[]\n",
    "test23_err=[]\n",
    "max_err_index=[]\n",
    "max_err_val=[]\n",
    "for k in range(1,10):\n",
    "    neigh = KNeighborsRegressor(n_neighbors=k)\n",
    "    tr_in=train_in  #.iloc[:,0:k]\n",
    "    tr_out=train_out#.iloc[:]\n",
    "    ts_in=test_in#.iloc[:,0:k]\n",
    "    ts_out=test_out#.iloc[:]\n",
    "    neigh.fit(tr_in,tr_out)\n",
    "    out1=neigh.predict(tr_in)\n",
    "    out2=neigh.predict(ts_in)\n",
    "    out1=np.reshape(out1,[349,1])\n",
    "    out2=np.reshape(out2,[62,1])\n",
    "    \n",
    "    ts_out=np.asarray(ts_out)\n",
    "    ts_out=np.reshape(ts_out,[62,1])\n",
    "    #print(tr_out.shape)\n",
    "    tr_out=np.asarray(tr_out)\n",
    "    tr_out=np.reshape(tr_out,[349,1])\n",
    "    \n",
    "    temp=abs(out2-ts_out)\n",
    "    indi=np.argmax(temp)\n",
    "    m_err=temp[indi]\n",
    "    max_err_index.append(indi)\n",
    "    max_err_val.append(m_err)\n",
    "    #print(m_err)\n",
    "    e1=np.sqrt((np.sum((out1-tr_out)**2))/len(out1))\n",
    "    e2=np.sqrt((np.sum((out2-ts_out)**2))/len(out2))\n",
    "    train23_err.append(e1)\n",
    "    test23_err.append(e2)\n",
    "#print(train_err)\n",
    "#train_err=np.asarray(train_err)\n",
    "#test_err=np.asarray(test_err)\n",
    "print(\"Train error for diff K is\\n\",train23_err) \n",
    "print(\"Test error for diff K is\\n\",test23_err)\n",
    "plt.plot([1,2,3,4,5,6,7,8,9],train23_err,'ro')\n",
    "plt.show()\n",
    "plt.plot([1,2,3,4,5,6,7,8,9],test23_err,'ro')\n",
    "plt.show()\n",
    "print(\"Max error indexes are \\n\",max_err_index)\n",
    "print(\"Max error values are \\n\",max_err_val)"
   ]
  },
  {
   "cell_type": "markdown",
   "metadata": {},
   "source": [
    "#### Index of maimum error is shown. This Home might be an Exception/Outlier. To improve prediction on this dataset, we can scale features, vary the values of K, Use different Distance Metric"
   ]
  },
  {
   "cell_type": "markdown",
   "metadata": {},
   "source": [
    "# Question Number 3"
   ]
  },
  {
   "cell_type": "code",
   "execution_count": 18,
   "metadata": {},
   "outputs": [
    {
     "data": {
      "text/plain": [
       "0    Iris-setosa\n",
       "1    Iris-setosa\n",
       "2    Iris-setosa\n",
       "3    Iris-setosa\n",
       "4    Iris-setosa\n",
       "Name: label, dtype: object"
      ]
     },
     "execution_count": 18,
     "metadata": {},
     "output_type": "execute_result"
    }
   ],
   "source": [
    "inp=df.iloc[:,1:3]\n",
    "inp.head()\n",
    "outp=df.iloc[:,-1]\n",
    "outp.head()"
   ]
  },
  {
   "cell_type": "code",
   "execution_count": 19,
   "metadata": {},
   "outputs": [
    {
     "name": "stdout",
     "output_type": "stream",
     "text": [
      "{'Iris-versicolor', 'Iris-setosa', 'Iris-virginica'}\n"
     ]
    },
    {
     "data": {
      "text/plain": [
       "0    Iris-setosa\n",
       "1    Iris-setosa\n",
       "2    Iris-setosa\n",
       "3    Iris-setosa\n",
       "4    Iris-setosa\n",
       "Name: label, dtype: object"
      ]
     },
     "execution_count": 19,
     "metadata": {},
     "output_type": "execute_result"
    }
   ],
   "source": [
    "print(set(outp))\n",
    "outp2=outp\n",
    "outp.head()"
   ]
  },
  {
   "cell_type": "code",
   "execution_count": 20,
   "metadata": {},
   "outputs": [
    {
     "name": "stderr",
     "output_type": "stream",
     "text": [
      "F:\\Anacondaa\\lib\\site-packages\\pandas\\core\\indexing.py:189: SettingWithCopyWarning: \n",
      "A value is trying to be set on a copy of a slice from a DataFrame\n",
      "\n",
      "See the caveats in the documentation: http://pandas.pydata.org/pandas-docs/stable/indexing.html#indexing-view-versus-copy\n",
      "  self._setitem_with_indexer(indexer, value)\n"
     ]
    }
   ],
   "source": [
    "for i in range(0,len(outp)):\n",
    "    if (outp.iloc[i]=='Iris-setosa'):\n",
    "        outp2.iloc[i]=0\n",
    "    elif (outp.iloc[i]=='Iris-versicolor'):\n",
    "        outp2.iloc[i]=1\n",
    "    elif (outp.iloc[i]=='Iris-virginica'):\n",
    "        outp2.iloc[i]=2\n"
   ]
  },
  {
   "cell_type": "code",
   "execution_count": 42,
   "metadata": {},
   "outputs": [
    {
     "data": {
      "text/plain": [
       "Text(0, 0.5, 'sepal_width')"
      ]
     },
     "execution_count": 42,
     "metadata": {},
     "output_type": "execute_result"
    },
    {
     "data": {
      "image/png": "[encoded data removed]",
      "text/plain": [
       "<Figure size 432x288 with 1 Axes>"
      ]
     },
     "metadata": {
      "needs_background": "light"
     },
     "output_type": "display_data"
    }
   ],
   "source": [
    "from scipy.spatial import Voronoi, voronoi_plot_2d\n",
    "\n",
    "vor = Voronoi(inp)\n",
    "\n",
    "voronoi_plot_2d(vor, show_vertices=False, show_points=False)\n",
    "\n",
    "plt.scatter(x=inp.iloc[:,0],\n",
    "                y=inp.iloc[:,1],\n",
    "                c=outp.iloc[:])\n",
    "plt.xlabel(\"sepal_length\")\n",
    "plt.ylabel(\"sepal_width\")"
   ]
  },
  {
   "cell_type": "markdown",
   "metadata": {},
   "source": [
    "###### References: \n",
    "Discussion Group: Ashish Kumar(18210014), Shubham Garg.\n",
    "I also referred to https://nbviewer.jupyter.org/github/csiu/100daysofcode/blob/master/misc/day52_voronoi.ipynb"
   ]
  }
 ],
 "metadata": {
  "kernelspec": {
   "display_name": "Python 3",
   "language": "python",
   "name": "python3"
  },
  "language_info": {
   "codemirror_mode": {
    "name": "ipython",
    "version": 3
   },
   "file_extension": ".py",
   "mimetype": "text/x-python",
   "name": "python",
   "nbconvert_exporter": "python",
   "pygments_lexer": "ipython3",
   "version": "3.7.1"
  }
 },
 "nbformat": 4,
 "nbformat_minor": 2
}
