{
 "cells": [
  {
   "cell_type": "markdown",
   "metadata": {},
   "source": [
    "# Qn No 4 and 5"
   ]
  },
  {
   "cell_type": "code",
   "execution_count": 254,
   "metadata": {},
   "outputs": [],
   "source": [
    "#import numpy as np\n",
    "#import matplotlib.mlab as mlab\n",
    "#import matplotlib.pyplot as plt\n",
    "\n",
    "#a=1664525\n",
    "#c=1013904223\n",
    "#d=2**32\n",
    "#x1=41\n",
    "#final=[]\n",
    "#for x in range(10):\n",
    "#    x2=(a*x1+c)%d\n",
    "#    final.append(x2%100)\n",
    "#    #print(x2%100)\n",
    "#    x1=x2\n",
    "##final\n",
    "#n, bins, patches = plt.hist(final,  facecolor='blue', alpha=0.5)\n",
    "#plt.show()\n",
    "\n",
    "    #print(x1)"
   ]
  },
  {
   "cell_type": "markdown",
   "metadata": {},
   "source": [
    "## Random number generator function using LCG"
   ]
  },
  {
   "cell_type": "code",
   "execution_count": 268,
   "metadata": {},
   "outputs": [],
   "source": [
    "def random_num_generator(Total_random_no_to_generate,upper_limit,x1):\n",
    "#second attempt\n",
    "    import numpy as np\n",
    "    import matplotlib.mlab as mlab\n",
    "    import matplotlib.pyplot as plt\n",
    "\n",
    "    a=1664525\n",
    "    c=1013904223\n",
    "    d=2**32\n",
    "    #x1=41\n",
    "    #Total_random_no_to_generate=10\n",
    "    #upper_limit=100\n",
    "    final=[]\n",
    "    for x in range(Total_random_no_to_generate): \n",
    "        x2=(a*x1+c)%d\n",
    "        final.append(x2%upper_limit) #put here upper_limit\n",
    "        #print(x2%100)\n",
    "        x1=x2\n",
    "    #return x2%100\n",
    "    return final"
   ]
  },
  {
   "cell_type": "markdown",
   "metadata": {},
   "source": [
    "## Qn No 5(a): Generating Random Number"
   ]
  },
  {
   "cell_type": "code",
   "execution_count": 263,
   "metadata": {},
   "outputs": [
    {
     "data": {
      "text/plain": [
       "[48]"
      ]
     },
     "execution_count": 263,
     "metadata": {},
     "output_type": "execute_result"
    }
   ],
   "source": [
    "random_num_generator(1,100,33)"
   ]
  },
  {
   "cell_type": "markdown",
   "metadata": {},
   "source": [
    "## Qn No 5(b):Calling Random Number Generator 1000 times and plotting the distribution"
   ]
  },
  {
   "cell_type": "code",
   "execution_count": 259,
   "metadata": {},
   "outputs": [
    {
     "name": "stdout",
     "output_type": "stream",
     "text": [
      "[98]\n"
     ]
    },
    {
     "data": {
      "image/png": "[encoded data removed]",
      "text/plain": [
       "<Figure size 432x288 with 1 Axes>"
      ]
     },
     "metadata": {
      "needs_background": "light"
     },
     "output_type": "display_data"
    }
   ],
   "source": [
    "import numpy as np\n",
    "import matplotlib.mlab as mlab\n",
    "import matplotlib.pyplot as plt\n",
    "x1=1023\n",
    "final2=[]\n",
    "x2=random_num_generator(1,100,x1)\n",
    "print(x2)\n",
    "\n",
    "#calling in 1000 times\n",
    "x2=random_num_generator(1000,100,x1)\n",
    "#print(x2)\n",
    "n, bins, patches = plt.hist(x2,  facecolor='blue', alpha=0.5)\n",
    "plt.show()\n",
    "\n",
    "\n",
    "#for i in range(20):\n",
    "#    x2=random_num_generator(2,100,x1)\n",
    "#    x1=x2[-1]\n",
    "    #inal2.append(x2)\n",
    "#    print(x2)\n",
    "#final2"
   ]
  },
  {
   "cell_type": "markdown",
   "metadata": {},
   "source": [
    "## Qn No: 4(a)- Plotting y = mx+c+random noise for 50 points"
   ]
  },
  {
   "cell_type": "code",
   "execution_count": 265,
   "metadata": {},
   "outputs": [
    {
     "data": {
      "image/png": "[encoded data removed]",
      "text/plain": [
       "<Figure size 432x288 with 1 Axes>"
      ]
     },
     "metadata": {
      "needs_background": "light"
     },
     "output_type": "display_data"
    }
   ],
   "source": [
    "import random\n",
    "import matplotlib.pyplot as plt\n",
    "x_cordinates=[]\n",
    "y_cordinates=[]\n",
    "m=5\n",
    "c=20\n",
    "for x in range(1,51):\n",
    "    y= m*x + c + random.randint(-200,200)\n",
    "    y_cordinates.append(y)\n",
    "    x_cordinates.append(x)\n",
    "plt.plot(x_cordinates, y_cordinates, 'ro')\n",
    "plt.show()  \n"
   ]
  },
  {
   "cell_type": "markdown",
   "metadata": {},
   "source": [
    "# Qn no-4(b): Plotting 5 degree fit for the data"
   ]
  },
  {
   "cell_type": "code",
   "execution_count": 267,
   "metadata": {},
   "outputs": [
    {
     "name": "stdout",
     "output_type": "stream",
     "text": [
      "            5            4          3         2\n",
      "-6.023e-05 x + 0.007916 x - 0.3724 x + 7.447 x - 49.9 x + 67.89\n"
     ]
    },
    {
     "data": {
      "image/png": "[encoded data removed]",
      "text/plain": [
       "<Figure size 432x288 with 1 Axes>"
      ]
     },
     "metadata": {
      "needs_background": "light"
     },
     "output_type": "display_data"
    }
   ],
   "source": [
    "#question number 4\n",
    "import random\n",
    "import matplotlib.pyplot as plt\n",
    "x_cordinates=[]\n",
    "y_cordinates=[]\n",
    "m=5\n",
    "c=20\n",
    "for x in range(1,51):\n",
    "    y= m*x + c + random.randint(-200,200)\n",
    "    y_cordinates.append(y)\n",
    "    x_cordinates.append(x)\n",
    "p = np.poly1d(np.polyfit(x_cordinates, y_cordinates, 5))\n",
    "t = np.linspace(0, 50, 20)\n",
    "print(p)\n",
    "plt.plot(x_cordinates, y_cordinates, 'o', t, p(t), '-')\n",
    "plt.show()  \n"
   ]
  },
  {
   "cell_type": "markdown",
   "metadata": {},
   "source": [
    "#  Qn No- 4(c): bagging for n=100"
   ]
  },
  {
   "cell_type": "code",
   "execution_count": null,
   "metadata": {},
   "outputs": [
    {
     "name": "stdout",
     "output_type": "stream",
     "text": [
      "            5            4          3        2\n",
      "-6.369e-05 x + 0.008574 x - 0.4145 x + 8.57 x - 62.01 x + 110.6\n"
     ]
    },
    {
     "data": {
      "text/plain": [
       "[<matplotlib.lines.Line2D at 0x8cdd0a4e10>,\n",
       " <matplotlib.lines.Line2D at 0x8cdd0a4f28>]"
      ]
     },
     "execution_count": 270,
     "metadata": {},
     "output_type": "execute_result"
    }
   ],
   "source": [
    "#index=random.randit(1,51)\n",
    "import numpy\n",
    "bag_p=0\n",
    "for i in range(1,100):\n",
    "    res = [] \n",
    "    num=25\n",
    "    start=0\n",
    "    end=49\n",
    "    for j in range(num): \n",
    "        res.append(random.randint(start, end)) \n",
    "    #res=np.unique(res)\n",
    "    res=np.array(res)\n",
    "    #print(len(res))\n",
    "    x_cordinates=np.array(x_cordinates)\n",
    "    y_cordinates=np.array(y_cordinates)\n",
    "    x_new=(x_cordinates[res])\n",
    "    y_new=(y_cordinates[res])\n",
    "    p2 = np.poly1d(np.polyfit(x_new, y_new, 5))\n",
    "    bag_p=bag_p+p2\n",
    "\n",
    "bag_p=(bag_p/100)\n",
    "print(bag_p)\n",
    "t = np.linspace(0, 50, 20)\n",
    "plt.plot(x_cordinates, y_cordinates, 'o', t, bag_p(t), '-')"
   ]
  },
  {
   "cell_type": "markdown",
   "metadata": {},
   "source": [
    "### It is less prone to variance"
   ]
  }
 ],
 "metadata": {
  "kernelspec": {
   "display_name": "Python 3",
   "language": "python",
   "name": "python3"
  },
  "language_info": {
   "codemirror_mode": {
    "name": "ipython",
    "version": 3
   },
   "file_extension": ".py",
   "mimetype": "text/x-python",
   "name": "python",
   "nbconvert_exporter": "python",
   "pygments_lexer": "ipython3",
   "version": "3.7.1"
  }
 },
 "nbformat": 4,
 "nbformat_minor": 2
}
