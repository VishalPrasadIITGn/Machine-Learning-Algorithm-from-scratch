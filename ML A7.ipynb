{
 "cells": [
  {
   "cell_type": "markdown",
   "metadata": {},
   "source": [
    "# Vishal Prasad ML A7 (18210095)"
   ]
  },
  {
   "cell_type": "markdown",
   "metadata": {},
   "source": [
    "# Question No. 1 (a):"
   ]
  },
  {
   "cell_type": "markdown",
   "metadata": {},
   "source": [
    "### Reading the data"
   ]
  },
  {
   "cell_type": "code",
   "execution_count": null,
   "metadata": {},
   "outputs": [],
   "source": [
    "import numpy as np\n",
    "import pandas as pd\n",
    "df = pd.read_csv(\"irisself.txt\") # Import data\n",
    "temp=df.iloc[:,-1]\n",
    "df.head()"
   ]
  },
  {
   "cell_type": "code",
   "execution_count": null,
   "metadata": {},
   "outputs": [],
   "source": []
  },
  {
   "cell_type": "code",
   "execution_count": null,
   "metadata": {},
   "outputs": [],
   "source": [
    "df.drop('SepalWidth',axis=1,inplace=True)\n",
    "df.drop('PetalLength',axis=1,inplace=True)\n",
    "df.head(100)"
   ]
  },
  {
   "cell_type": "code",
   "execution_count": null,
   "metadata": {},
   "outputs": [],
   "source": [
    "df.head(10)\n",
    "temp.head()"
   ]
  },
  {
   "cell_type": "markdown",
   "metadata": {},
   "source": [
    "### Changing labels"
   ]
  },
  {
   "cell_type": "code",
   "execution_count": null,
   "metadata": {},
   "outputs": [],
   "source": [
    "#data.Gender[data.Gender == 'female'] = 2\n",
    "#print(data) \n",
    "df.label[df.label=='Iris-setosa']=1\n",
    "df.label[df.label=='Iris-virginica']=-1\n",
    "df.label[df.label=='Iris-versicolor']=-1\n",
    "df.head(5)"
   ]
  },
  {
   "cell_type": "code",
   "execution_count": null,
   "metadata": {},
   "outputs": [],
   "source": [
    "#df.head(150)"
   ]
  },
  {
   "cell_type": "code",
   "execution_count": null,
   "metadata": {},
   "outputs": [],
   "source": [
    "#df=df.sample(frac=1).reset_index(drop=True)\n",
    "df.head()"
   ]
  },
  {
   "cell_type": "code",
   "execution_count": null,
   "metadata": {},
   "outputs": [],
   "source": [
    "# Form SVM with L1 regularization problem.\n",
    "from cvxpy import *\n"
   ]
  },
  {
   "cell_type": "code",
   "execution_count": null,
   "metadata": {},
   "outputs": [],
   "source": [
    "df.head()"
   ]
  },
  {
   "cell_type": "markdown",
   "metadata": {},
   "source": [
    "## 1 (A) Hard Margin SVM Function"
   ]
  },
  {
   "cell_type": "code",
   "execution_count": null,
   "metadata": {},
   "outputs": [],
   "source": [
    "import cvxpy as cp\n",
    "def hard_margin_SVM(X,Y):\n",
    "    #print(X.shape())\n",
    "    n=2\n",
    "    w = cp.Variable(n)\n",
    "    #print(X@beta)\n",
    "    b = cp.Variable()\n",
    "    loss = cp.sum_entries(cp.pos(1 - cp.mul_elemwise(Y, X*w + b)))\n",
    "    #reg = norm(beta, 1)\n",
    "    #lambd = Parameter(nonneg=True)\n",
    "    prob = Problem(Minimize(loss))# + lambd*reg))\n",
    "    prob.solve()\n",
    "    print(w.value,b.value)\n",
    "    return w,b"
   ]
  },
  {
   "cell_type": "markdown",
   "metadata": {},
   "source": [
    "## 1 (A) (i)\n",
    "Hard Margin SVM Function for IRIS dataset"
   ]
  },
  {
   "cell_type": "code",
   "execution_count": null,
   "metadata": {},
   "outputs": [],
   "source": [
    "X=df.iloc[:,[0,2]].values\n",
    "Y=df.iloc[:,-1].values\n",
    "w1,b1=hard_margin_SVM(X,Y)"
   ]
  },
  {
   "cell_type": "markdown",
   "metadata": {},
   "source": [
    "#### Extra direct implementation"
   ]
  },
  {
   "cell_type": "code",
   "execution_count": null,
   "metadata": {},
   "outputs": [],
   "source": [
    "import cvxpy as cp\n",
    "X=df.iloc[:,[0,2]].values\n",
    "Y=df.iloc[:,-1].values\n",
    "#print(X.shape())\n",
    "n=2\n",
    "w = cp.Variable(n)\n",
    "#print(X@beta)\n",
    "b = cp.Variable()\n",
    "\n",
    "constraints = [Y[i]*(((w[0]*X[i,0])+(w[1]*X[i,1]))+b)>1 for i in range(df.iloc[:,1].shape[0])]\n",
    "#constraints = [y[i]*(np.dot(w[0:2],x[i,:])+w[2])>=1 for i in range(irp.iloc[:,1].shape[0])]\n",
    "# Form objective.\n",
    "obj = cp.Minimize(cp.norm(w,2)**2)\n",
    "\n",
    "##loss = cp.sum_entries(cp.pos(1 - cp.mul_elemwise(Y, X*w + b)))\n",
    "#reg = norm(beta, 1)\n",
    "#lambd = Parameter(nonneg=True)\n",
    "##prob = Problem(Minimize(loss))# + lambd*reg))\n",
    "prob=cp.Problem(obj,constraints)\n",
    "prob.solve()\n",
    "w.value\n",
    "b.value"
   ]
  },
  {
   "cell_type": "code",
   "execution_count": null,
   "metadata": {},
   "outputs": [],
   "source": [
    "print(w.value,b.value)\n",
    "w_1=w[0].value\n",
    "w_2=w[1].value\n",
    "b_1=b.value"
   ]
  },
  {
   "cell_type": "markdown",
   "metadata": {},
   "source": [
    "## 1(A) (ii)\n",
    "Dual values using CVXPY"
   ]
  },
  {
   "cell_type": "code",
   "execution_count": null,
   "metadata": {},
   "outputs": [],
   "source": [
    "w2 = cp.Variable(n)\n",
    "b2 = cp.Variable()\n",
    "reg = norm(w2, 2)\n",
    "#loss =\n",
    "obj=cp.Minimize(reg)\n",
    "constraints=[(cp.mul_elemwise(Y, X*w2 - b2))>=1]\n",
    "prob2=cp.Problem(obj,constraints)\n",
    "prob2.solve()\n",
    "dual_vals=(constraints[0].dual_value)\n",
    "#print(b.value)\n",
    "#print(\"optimal (x - y >= 1) dual variable\", constraints[1].dual_value)\n",
    "#print(\"x - y value:\", (x - y).value)"
   ]
  },
  {
   "cell_type": "code",
   "execution_count": null,
   "metadata": {},
   "outputs": [],
   "source": [
    "print(w2.value)\n",
    "indxs=sorted(range(len(dual_vals)), key=lambda i: dual_vals[i], reverse=True)[:20]"
   ]
  },
  {
   "cell_type": "markdown",
   "metadata": {},
   "source": [
    "#### Examples with larger dual values have large importance in deciding the boundary"
   ]
  },
  {
   "cell_type": "markdown",
   "metadata": {},
   "source": [
    "## 1(A) (iii)\n",
    "Plotting hperplane boundary"
   ]
  },
  {
   "cell_type": "code",
   "execution_count": null,
   "metadata": {},
   "outputs": [],
   "source": [
    "import matplotlib.pyplot as plt\n",
    "plt.scatter(df.iloc[:,0],df.iloc[:,1],c=df.iloc[:,-1])\n",
    "plt.scatter(df.iloc[indxs,0],df.iloc[indxs,1],c=df.iloc[indxs,-1],facecolors='',edgecolors='k')\n",
    "#plt.plot(w[0].value,w[1].value)\n",
    "x1=np.linspace(4, 8, 10)\n",
    "x2=(-w_1*x1-b_1)/w_2\n",
    "x3=((-w_1*x1-b_1-1)/w_2)\n",
    "x4=((-w_1*x1-b_1+1)/w_2)\n",
    "plt.plot(x1,x2)\n",
    "plt.plot(x1,x3,'k--')\n",
    "plt.plot(x1,x4,'k--')\n",
    "#plt.scatter(X.iloc[:, 0], X.iloc[:, 1], c=Y, cmap=plt.cm.Paired)\n",
    "plt.show()"
   ]
  },
  {
   "cell_type": "markdown",
   "metadata": {},
   "source": [
    "#  ============Recycle Bin==============="
   ]
  },
  {
   "cell_type": "code",
   "execution_count": null,
   "metadata": {},
   "outputs": [],
   "source": [
    "from sklearn import svm\n",
    "clf = svm.SVC(kernel='linear', gamma='auto')\n",
    "clf.fit(df.iloc[:,0:2],temp)\n",
    "a=clf.support_vectors_\n",
    "#print(a.shape)"
   ]
  },
  {
   "cell_type": "code",
   "execution_count": null,
   "metadata": {},
   "outputs": [],
   "source": []
  },
  {
   "cell_type": "code",
   "execution_count": null,
   "metadata": {},
   "outputs": [],
   "source": [
    "w = clf.coef_[0]\n",
    "a = -w[0] / w[1]\n",
    "xx = np.linspace(4, 8)\n",
    "yy = a * xx - (clf.intercept_[0]) / w[1]\n",
    "\n",
    "# plot the parallels to the separating hyperplane that pass through the\n",
    "# support vectors\n",
    "b = clf.support_vectors_[0]\n",
    "yy_down = a * xx + (b[1] - a * b[0])\n",
    "b = clf.support_vectors_[-1]\n",
    "yy_up = a * xx + (b[1] - a * b[0])\n",
    "\n",
    "# plot the line, the points, and the nearest vectors to the plane\n",
    "plt.plot(xx, yy, 'k-')\n",
    "plt.plot(xx, yy_down, 'k--')\n",
    "plt.plot(xx, yy_up, 'k--')\n"
   ]
  },
  {
   "cell_type": "markdown",
   "metadata": {},
   "source": []
  },
  {
   "cell_type": "code",
   "execution_count": null,
   "metadata": {},
   "outputs": [],
   "source": [
    "def make_meshgrid(x, y, h=.02):\n",
    "    x_min, x_max = x.min() - 1, x.max() + 1\n",
    "    y_min, y_max = y.min() - 1, y.max() + 1\n",
    "    xx, yy = np.meshgrid(np.arange(x_min, x_max, h),\n",
    "                         np.arange(y_min, y_max, h))\n",
    "    return xx, yy\n"
   ]
  },
  {
   "cell_type": "code",
   "execution_count": null,
   "metadata": {},
   "outputs": [],
   "source": [
    "def plot_contours(ax, clf, xx, yy, **params):\n",
    "    Z = clf.predict(np.c_[xx.ravel(), yy.ravel()])\n",
    "    Z = Z.reshape(xx.shape)\n",
    "    out = ax.contourf(xx, yy, Z, **params)\n",
    "    return out\n"
   ]
  },
  {
   "cell_type": "code",
   "execution_count": null,
   "metadata": {},
   "outputs": [],
   "source": [
    "print(__doc__)\n",
    "\n",
    "import numpy as np\n",
    "import matplotlib.pyplot as plt\n",
    "from sklearn import svm\n",
    "from sklearn.datasets import make_blobs\n",
    "\n",
    "\n",
    "# we create 40 separable points\n",
    "#X, y = make_blobs(n_samples=40, centers=2, random_state=6)\n",
    "X=df.iloc[:,0:2]\n",
    "#y=df.iloc[:,-1]\n",
    "y=temp\n",
    "# fit the model, don't regularize for illustration purposes\n",
    "clf = svm.SVC(kernel='linear', C=1000)\n",
    "clf.fit(X, y)\n",
    "\n",
    "plt.scatter(X.iloc[:, 0], X.iloc[:, 1], c=df.iloc[:,-1], s=30, cmap=plt.cm.Paired)\n",
    "\n",
    "# plot the decision function\n",
    "ax = plt.gca()\n",
    "xlim = ax.get_xlim()\n",
    "ylim = ax.get_ylim()\n",
    "\n",
    "# create grid to evaluate model\n",
    "#xx = np.linspace(xlim[0], xlim[1], 30)\n",
    "#yy = np.linspace(ylim[0], ylim[1], 30)\n",
    "#YY, XX = np.meshgrid(yy, xx)\n",
    "YY, XX =make_meshgrid(X.iloc[:,0],X.iloc[:,1])\n",
    "xy = np.vstack([XX.ravel(), YY.ravel()]).T\n",
    "Z = clf.predict(np.c_[XX.ravel(), YY.ravel()])\n",
    "Z = Z.reshape(XX.shape)\n",
    "print(Z.shape)\n",
    "#Z = clf.decision_function(xy).reshape(XX.shape)\n",
    "l=np.zeros(Z.shape)\n",
    "#print(l.shape)\n",
    "for p in range(len(Z)):\n",
    "    for q in range(len(Z[0])):\n",
    "        if Z[p][q]=='Iris-setosa':\n",
    "            l[p][q]=1\n",
    "        else:\n",
    "            l[p][q]=-1\n",
    "l=np.asarray(l)\n",
    "l=l.reshape(Z.shape)\n",
    "#s=np.zeros([30,1])\n",
    "print(l.shape)\n",
    "#s[:,0]=l\n",
    "#print(l)\n",
    "# plot decision boundary and margins\n",
    "ax.contour(XX, YY, l, colors='k', levels=[-1, 0, 1], alpha=0.5,\n",
    "           linestyles=['--', '-', '--'])\n",
    "ax.set_xlim(3, 8)\n",
    "ax.set_ylim(0, 5)\n",
    "\n",
    "\n",
    "# plot support vectors\n",
    "ax.scatter(clf.support_vectors_[:, 0], clf.support_vectors_[:, 1], s=100,\n",
    "           linewidth=1, facecolors='none', edgecolors='k')\n",
    "plt.show()"
   ]
  },
  {
   "cell_type": "markdown",
   "metadata": {},
   "source": [
    "##### -------------------xxxxxxxxxxxxxxxxxxxxxxxxxxxx----------------------------------"
   ]
  },
  {
   "cell_type": "markdown",
   "metadata": {},
   "source": [
    "## 1(A) (iv) decision Boundary using sklearn's SVM"
   ]
  },
  {
   "cell_type": "code",
   "execution_count": null,
   "metadata": {},
   "outputs": [],
   "source": [
    "## Working model\n",
    "print(__doc__)\n",
    "\n",
    "import numpy as np\n",
    "import matplotlib.pyplot as plt\n",
    "from sklearn import svm\n",
    "from sklearn.datasets import make_blobs\n",
    "# we create 40 separable points\n",
    "#X, y = make_blobs(n_samples=40, centers=2, random_state=6)\n",
    "X=df.iloc[:,0:2]\n",
    "#y=df.iloc[:,-1]\n",
    "y=temp\n",
    "# fit the model, don't regularize for illustration purposes\n",
    "clf = svm.SVC(kernel='linear', C=1000)\n",
    "clf.fit(X, y)\n",
    "w = clf.coef_[0]\n",
    "a = -w[0] / w[1]\n",
    "xx = np.linspace(4, 8)\n",
    "yy = a * xx - (clf.intercept_[0]) / w[1]\n",
    "\n",
    "ax = plt.gca()\n",
    "#print(temp)\n",
    "xlim = ax.get_xlim()\n",
    "ylim = ax.get_ylim()\n",
    "\n",
    "\n",
    "# plot the parallels to the separating hyperplane that pass through the\n",
    "# support vectors\n",
    "b = clf.support_vectors_[0]\n",
    "yy_down = a * xx + (b[1] - a * b[0])\n",
    "b = clf.support_vectors_[-1]\n",
    "yy_up = a * xx + (b[1] - a * b[0])\n",
    "\n",
    "# plot the line, the points, and the nearest vectors to the plane\n",
    "plt.plot(xx, yy, 'k-')\n",
    "plt.plot(xx, yy_down, 'k--')\n",
    "plt.plot(xx, yy_up, 'k--')\n",
    "\n",
    "plt.scatter(clf.support_vectors_[:, 0], clf.support_vectors_[:, 1],\n",
    "            s=80, facecolors='none',edgecolors='k')\n",
    "plt.scatter(X.iloc[:, 0], X.iloc[:, 1], c=Y, cmap=plt.cm.Paired)\n",
    "\n",
    "plt.axis('tight')\n",
    "plt.show()"
   ]
  },
  {
   "cell_type": "code",
   "execution_count": null,
   "metadata": {},
   "outputs": [],
   "source": [
    "df4 = pd.read_csv(\"irisself.txt\") # Import data\n",
    "temp=df4.iloc[:,-1]\n",
    "df.head()"
   ]
  },
  {
   "cell_type": "code",
   "execution_count": null,
   "metadata": {},
   "outputs": [],
   "source": [
    "df4.label[df4.label=='Iris-setosa']='Iris-setosa'\n",
    "df4.label[df4.label=='Iris-virginica']='Not-setosa'\n",
    "df4.label[df4.label=='Iris-versicolor']='Not-setosa'"
   ]
  },
  {
   "cell_type": "code",
   "execution_count": null,
   "metadata": {},
   "outputs": [],
   "source": [
    "df4.head()"
   ]
  },
  {
   "cell_type": "code",
   "execution_count": null,
   "metadata": {},
   "outputs": [],
   "source": [
    "clf = svm.SVC(kernel='linear')\n",
    "clf.fit(df4.iloc[:,0:2],df4.iloc[:,-1])\n",
    "plt.scatter(df.iloc[:, 0], df.iloc[:, 1], c=df.iloc[:,-1], s=80, cmap=plt.cm.Paired)\n",
    "ax = plt.gca()\n",
    "#print(temp)\n",
    "xlim = ax.get_xlim()\n",
    "ylim = ax.get_ylim()\n",
    "\n",
    "#xx = np.linspace(xlim[0], xlim[1], 30)\n",
    "#yy = np.linspace(ylim[0], ylim[1], 30)\n",
    "xx=np.linspace(4, 8, 30)\n",
    "y=np.linspace(0, 10, 30)\n",
    "YY, XX = np.meshgrid(yy, xx)\n",
    "xy = np.vstack([XX.ravel(), YY.ravel()]).T\n",
    "print(xy.shape)\n",
    "Z = clf.decision_function(xy)\n",
    "Z=Z.reshape(XX.shape)\n",
    "ax.contour(XX, YY, Z, colors='k', levels=[-1,0, 1], alpha=1,\n",
    "          linestyles=['--', '-', '--'])\n",
    "# plot support vectors\n",
    "ax.scatter(clf.support_vectors_[:, 0], clf.support_vectors_[:, 1], s=100,\n",
    "          linewidth=1, facecolors='none', edgecolors='k')\n",
    "plt.show()\n"
   ]
  },
  {
   "cell_type": "markdown",
   "metadata": {},
   "source": [
    "### 1(A) (v)\n",
    "If Non-Support Vectors are thrown away that does not make a difference because,ideally alpha is zero for them, and hence do not contribute to decision boundary"
   ]
  },
  {
   "cell_type": "markdown",
   "metadata": {},
   "source": [
    "## Question No 1(B):\n",
    "Soft Margin SVM using CVXPY formulated as hing loss plus penalty"
   ]
  },
  {
   "cell_type": "code",
   "execution_count": null,
   "metadata": {},
   "outputs": [],
   "source": [
    "def soft_margin_SVM(X,Y):\n",
    "    #workingg\n",
    "    #X=df.iloc[:,[0,2]].values\n",
    "    #Y=df.iloc[:,-1].values\n",
    "    #w1,b1=hard_margin_SVM(X,Y)\n",
    "    #print(Y)\n",
    "    n=2\n",
    "    w2 = cp.Variable(n)\n",
    "    b2 = cp.Variable()\n",
    "    ei=cp.Variable()\n",
    "    reg = norm(w2, 2)+sum_entries(ei)\n",
    "    #loss =\n",
    "    obj=cp.Minimize(reg)\n",
    "    constraints=[(cp.mul_elemwise(Y, X*w2 - b2))>=(1-ei)]\n",
    "    prob2=cp.Problem(obj,constraints)\n",
    "    prob2.solve()\n",
    "    print(w2.value)\n",
    "    #print(constraints[0].dual_value)\n",
    "    #print(b.value)\n",
    "    #print(\"optimal (x - y >= 1) dual variable\", constraints[1].dual_value)\n",
    "    #print(\"x - y value:\", (x - y).value)\n",
    "    return w2,b2,ei"
   ]
  },
  {
   "cell_type": "markdown",
   "metadata": {},
   "source": [
    "### Editing the dataset again"
   ]
  },
  {
   "cell_type": "code",
   "execution_count": null,
   "metadata": {},
   "outputs": [],
   "source": [
    "df2 = pd.read_csv(\"irisself.txt\") # Import data\n",
    "temp2=df2.iloc[:,-1]\n",
    "df2.head()"
   ]
  },
  {
   "cell_type": "markdown",
   "metadata": {},
   "source": [
    "### Labeling the dataset"
   ]
  },
  {
   "cell_type": "code",
   "execution_count": null,
   "metadata": {},
   "outputs": [],
   "source": [
    "df2.drop('PetalWidth',axis=1,inplace=True)\n",
    "df2.drop('PetalLength',axis=1,inplace=True)\n",
    "df2.head()"
   ]
  },
  {
   "cell_type": "code",
   "execution_count": null,
   "metadata": {},
   "outputs": [],
   "source": [
    "temp2=df2.iloc[:,-1]\n",
    "temp2=temp2[:]\n",
    "#print(temp)"
   ]
  },
  {
   "cell_type": "code",
   "execution_count": null,
   "metadata": {},
   "outputs": [],
   "source": [
    "df2.label[df2.label=='Iris-setosa']=-1\n",
    "df2.label[df2.label=='Iris-virginica']=1\n",
    "df2.label[df2.label=='Iris-versicolor']=-1\n",
    "df2.head(5)"
   ]
  },
  {
   "cell_type": "code",
   "execution_count": null,
   "metadata": {},
   "outputs": [],
   "source": []
  },
  {
   "cell_type": "code",
   "execution_count": null,
   "metadata": {},
   "outputs": [],
   "source": [
    "df3 = pd.read_csv(\"irisself.txt\") # Import data\n",
    "df3.label[df3.label=='Iris-setosa']='Not-virginica'\n",
    "df3.label[df3.label=='Iris-virginica']='Iris-virginica'\n",
    "df3.label[df3.label=='Iris-versicolor']='Not-virginica'\n"
   ]
  },
  {
   "cell_type": "markdown",
   "metadata": {},
   "source": [
    "## 1(B) (ii) : Applyying on IRIS Dataset \n",
    "with SL and SW and IV"
   ]
  },
  {
   "cell_type": "code",
   "execution_count": null,
   "metadata": {},
   "outputs": [],
   "source": [
    "X2=df2.iloc[:,0:2].values\n",
    "Y2=df2.iloc[:,-1].values\n",
    "w3,b3,e3=soft_margin_SVM(X2,Y2)\n",
    "print(w3.value,b3.value,e3.value)"
   ]
  },
  {
   "cell_type": "code",
   "execution_count": null,
   "metadata": {},
   "outputs": [],
   "source": [
    "#workingg\n",
    "#X=df.iloc[:,[0,2]].values\n",
    "#Y=df.iloc[:,-1].values\n",
    "#w1,b1=hard_margin_SVM(X,Y)\n",
    "#print(Y)\n",
    "n=2\n",
    "w2 = cp.Variable(n)\n",
    "b2 = cp.Variable()\n",
    "ei=cp.Variable()\n",
    "reg = norm(w2, 2)+0.5*sum_entries(ei)\n",
    "#loss =\n",
    "obj=cp.Minimize(reg)\n",
    "constraints=[(cp.mul_elemwise(Y2, X2*w2 - b2))>=(1-ei) , ei>=0]\n",
    "prob2=cp.Problem(obj,constraints)\n",
    "prob2.solve()\n",
    "print(w2.value,b2.value,ei.value)\n",
    "dual_vals2=(constraints[0].dual_value)\n",
    "#print(dual_vals2)\n",
    "#print(\"optimal (x - y >= 1) dual variable\", constraints[1].dual_value)\n",
    "#print(\"x - y value:\", (x - y).value)"
   ]
  },
  {
   "cell_type": "code",
   "execution_count": null,
   "metadata": {},
   "outputs": [],
   "source": [
    "indxs2=sorted(range(len(dual_vals2)), key=lambda i: dual_vals2[i], reverse=True)[:20]\n",
    "#print(dual_vals2[indxs2])"
   ]
  },
  {
   "cell_type": "markdown",
   "metadata": {},
   "source": [
    "### 1(B) (iii): Plotting Boundar and support vector points"
   ]
  },
  {
   "cell_type": "code",
   "execution_count": null,
   "metadata": {},
   "outputs": [],
   "source": [
    "print(w2.value,b2.value,ei.value)\n",
    "a1=w3[0].value\n",
    "a2=w3[1].value\n",
    "e=e3.value\n",
    "b=b3.value\n",
    "x1=np.linspace(4, 8, 30)\n",
    "x2=(-a1*x1)/a2\n",
    "x3=(((-a1*x1+b))/a2)-e\n",
    "x4=(((-a1*x1-b))/a2)+e\n",
    "#print(e)\n",
    "plt.plot(x1,x2)\n",
    "plt.plot(x1,x3,'k--')\n",
    "plt.plot(x1,x4,'k--')\n",
    "plt.scatter(X2[:, 0], X2[:, 1], c=Y2, cmap=plt.cm.Paired)\n",
    "plt.scatter(X2[indxs2, 0], X2[indxs2, 1], c=Y2[indxs], cmap=plt.cm.Paired,s=80, facecolors='none',edgecolors='k')\n",
    "plt.show()"
   ]
  },
  {
   "cell_type": "markdown",
   "metadata": {},
   "source": [
    "### 1(B) (iii) Using sklearn SVM plotting decision boundar and support vector points"
   ]
  },
  {
   "cell_type": "code",
   "execution_count": null,
   "metadata": {},
   "outputs": [],
   "source": [
    "'''\n",
    "### Working model\n",
    "print(__doc__)\n",
    "\n",
    "X=df2.iloc[:,0:2]\n",
    "#y=df.iloc[:,-1]\n",
    "y=df3.iloc[:,-1]\n",
    "#print(y)\n",
    "# fit the model, don't regularize for illustration purposes\n",
    "clf = svm.SVC(kernel='linear', C=1000)\n",
    "clf.fit(X, y)\n",
    "w = clf.coef_[0]\n",
    "a = -w[0] / w[1]\n",
    "xx = np.linspace(5, 7)\n",
    "yy = a * xx - (clf.intercept_[0]) / w[1]\n",
    "\n",
    "# plot the parallels to the separating hyperplane that pass through the\n",
    "# support vectors\n",
    "b = clf.support_vectors_[0]\n",
    "yy_down = a * xx + (b[1] - a * b[0])\n",
    "b = clf.support_vectors_[1]\n",
    "yy_up = a * xx + (b[1] - a * b[0])\n",
    "\n",
    "# plot the line, the points, and the nearest vectors to the plane\n",
    "plt.plot(xx, yy, 'k-')\n",
    "plt.plot(xx, yy_down, 'k--')\n",
    "plt.plot(xx, yy_up, 'k--')\n",
    "\n",
    "plt.scatter(clf.support_vectors_[:, 0], clf.support_vectors_[:, 1],\n",
    "            s=80, facecolors='none',edgecolors='k')\n",
    "plt.scatter(X.iloc[:, 0], X.iloc[:, 1], c=Y, cmap=plt.cm.Paired)\n",
    "\n",
    "plt.axis('tight')\n",
    "plt.show()\n",
    "'''"
   ]
  },
  {
   "cell_type": "code",
   "execution_count": null,
   "metadata": {},
   "outputs": [],
   "source": [
    "clf = svm.SVC(kernel='linear')\n",
    "clf.fit(df2.iloc[:,0:2],df3.iloc[:,-1])\n",
    "plt.scatter(df2.iloc[:, 0], df2.iloc[:, 1], c=temp2, s=50, cmap=plt.cm.Paired)\n",
    "ax = plt.gca()\n",
    "xlim = ax.get_xlim()\n",
    "ylim = ax.get_ylim()\n",
    "\n",
    "xx = np.linspace(xlim[0], xlim[1], 30)\n",
    "yy = np.linspace(ylim[0], ylim[1], 30)\n",
    "YY, XX = np.meshgrid(yy, xx)\n",
    "xy = np.vstack([XX.ravel(), YY.ravel()]).T\n",
    "print(xy.shape)\n",
    "Z = clf.decision_function(xy)\n",
    "#print(deg)\n",
    "Z=Z.reshape(XX.shape)\n",
    "ax.contour(XX, YY, Z, colors='k', levels=[-1, 0, 1], alpha=1,\n",
    "          linestyles=['--', '-', '--'])\n",
    "# plot support vectors\n",
    "ax.scatter(clf.support_vectors_[:, 0], clf.support_vectors_[:, 1], s=100,\n",
    "          linewidth=1, facecolors='none', edgecolors='k')\n",
    "plt.show()\n"
   ]
  },
  {
   "cell_type": "code",
   "execution_count": null,
   "metadata": {},
   "outputs": [],
   "source": [
    "# by other method(in primal form)"
   ]
  },
  {
   "cell_type": "code",
   "execution_count": null,
   "metadata": {},
   "outputs": [],
   "source": [
    "beta = Variable(n)\n",
    "v = Variable()\n",
    "eii= Variable()\n",
    "reg = norm(w2, 2)+sum_entries(eii)\n",
    "loss = sum_entries(pos(1 - eii - mul_elemwise(Y2, X2*beta - v)))\n",
    "reg = norm(beta, 1)\n",
    "#lambd = Parameter(sign='positive')\n",
    "prob = Problem(Minimize(loss/150 + reg))\n",
    "prob.solve()\n",
    "print(beta.value,v.value,eii.value)"
   ]
  },
  {
   "cell_type": "code",
   "execution_count": null,
   "metadata": {},
   "outputs": [],
   "source": [
    "print(beta.value,v.value,eii.value)\n",
    "a1=beta[0].value\n",
    "a2=beta[1].value\n",
    "e=eii.value\n",
    "b=v.value\n",
    "x1=np.linspace(4, 8, 30)\n",
    "x2=(-a1*x1+b)/a2\n",
    "x3=((-a1*x1+b+e)/a2)\n",
    "x4=((-a1*x1-b-e)/a2)\n",
    "#print(e)\n",
    "plt.plot(x1,x2)\n",
    "plt.plot(x1,x3,'k--')\n",
    "plt.plot(x1,x4,'k--')\n",
    "#print(Y)\n",
    "plt.scatter(X2[:, 0], X2[:, 1], c=df2.iloc[:,-1], cmap=plt.cm.Paired)\n",
    "plt.show()"
   ]
  },
  {
   "cell_type": "code",
   "execution_count": null,
   "metadata": {},
   "outputs": [],
   "source": []
  },
  {
   "cell_type": "markdown",
   "metadata": {},
   "source": [
    "## 1(B) (iv) soft margin SVM usingBF, gamma, polnomial kernel"
   ]
  },
  {
   "cell_type": "code",
   "execution_count": null,
   "metadata": {},
   "outputs": [],
   "source": [
    "for kernel in ('linear', 'poly', 'rbf'):\n",
    "    \n",
    "    clf = svm.SVC(kernel=kernel, gamma=2)\n",
    "    clf.fit(df2.iloc[:,0:2],df3.iloc[:,-1])\n",
    "    plt.scatter(df2.iloc[:, 0], df2.iloc[:, 1], c=temp2, s=50, cmap=plt.cm.Paired)\n",
    "    ax = plt.gca()\n",
    "    xlim = ax.get_xlim()\n",
    "    ylim = ax.get_ylim()\n",
    "\n",
    "    xx = np.linspace(xlim[0], xlim[1], 30)\n",
    "    yy = np.linspace(ylim[0], ylim[1], 30)\n",
    "    YY, XX = np.meshgrid(yy, xx)\n",
    "    xy = np.vstack([XX.ravel(), YY.ravel()]).T\n",
    "    print(xy.shape)\n",
    "    Z = clf.decision_function(xy)\n",
    "    print(deg)\n",
    "    Z=Z.reshape(XX.shape)\n",
    "    ax.contour(XX, YY, Z, colors='k', levels=[-1, 0, 1], alpha=1,\n",
    "              linestyles=['--', '-', '--'])\n",
    "    # plot support vectors\n",
    "    ax.scatter(clf.support_vectors_[:, 0], clf.support_vectors_[:, 1], s=100,\n",
    "              linewidth=1, facecolors='none', edgecolors='k')\n",
    "    plt.show()\n"
   ]
  },
  {
   "cell_type": "markdown",
   "metadata": {},
   "source": [
    "###### I discussed the assignment with Deepanshu Singh, Shubham Garg, Ashish Kumar, Shreejith Srikrishnan. I referred to CVXPY and sklearn documentation and stackoverflow."
   ]
  },
  {
   "cell_type": "code",
   "execution_count": null,
   "metadata": {},
   "outputs": [],
   "source": []
  }
 ],
 "metadata": {
  "kernelspec": {
   "display_name": "Python 3",
   "language": "python",
   "name": "python3"
  },
  "language_info": {
   "codemirror_mode": {
    "name": "ipython",
    "version": 3
   },
   "file_extension": ".py",
   "mimetype": "text/x-python",
   "name": "python",
   "nbconvert_exporter": "python",
   "pygments_lexer": "ipython3",
   "version": "3.6.8"
  }
 },
 "nbformat": 4,
 "nbformat_minor": 2
}
