{
 "cells": [
  {
   "cell_type": "code",
   "execution_count": 1,
   "metadata": {},
   "outputs": [],
   "source": [
    "import csv\n",
    "f=open(\"irisself.txt\",'r')\n",
    "reader = csv.reader(f)\n",
    "import numpy as np\n",
    "import pandas as pd\n",
    "import random\n",
    "import random\n",
    "df=pd.read_csv('irisself.txt')\n",
    "df=df.drop(['SepalWidth','PetalLength'],axis=1)\n",
    "\n"
   ]
  },
  {
   "cell_type": "code",
   "execution_count": 2,
   "metadata": {},
   "outputs": [
    {
     "data": {
      "text/html": [
       "<div>\n",
       "<style scoped>\n",
       "    .dataframe tbody tr th:only-of-type {\n",
       "        vertical-align: middle;\n",
       "    }\n",
       "\n",
       "    .dataframe tbody tr th {\n",
       "        vertical-align: top;\n",
       "    }\n",
       "\n",
       "    .dataframe thead th {\n",
       "        text-align: right;\n",
       "    }\n",
       "</style>\n",
       "<table border=\"1\" class=\"dataframe\">\n",
       "  <thead>\n",
       "    <tr style=\"text-align: right;\">\n",
       "      <th></th>\n",
       "      <th>SepalLength</th>\n",
       "      <th>PetalWidth</th>\n",
       "      <th>label</th>\n",
       "    </tr>\n",
       "  </thead>\n",
       "  <tbody>\n",
       "    <tr>\n",
       "      <th>0</th>\n",
       "      <td>5.1</td>\n",
       "      <td>0.2</td>\n",
       "      <td>Iris-setosa</td>\n",
       "    </tr>\n",
       "    <tr>\n",
       "      <th>1</th>\n",
       "      <td>4.9</td>\n",
       "      <td>0.2</td>\n",
       "      <td>Iris-setosa</td>\n",
       "    </tr>\n",
       "    <tr>\n",
       "      <th>2</th>\n",
       "      <td>4.7</td>\n",
       "      <td>0.2</td>\n",
       "      <td>Iris-setosa</td>\n",
       "    </tr>\n",
       "    <tr>\n",
       "      <th>3</th>\n",
       "      <td>4.6</td>\n",
       "      <td>0.2</td>\n",
       "      <td>Iris-setosa</td>\n",
       "    </tr>\n",
       "    <tr>\n",
       "      <th>4</th>\n",
       "      <td>5.0</td>\n",
       "      <td>0.2</td>\n",
       "      <td>Iris-setosa</td>\n",
       "    </tr>\n",
       "  </tbody>\n",
       "</table>\n",
       "</div>"
      ],
      "text/plain": [
       "   SepalLength  PetalWidth        label\n",
       "0          5.1         0.2  Iris-setosa\n",
       "1          4.9         0.2  Iris-setosa\n",
       "2          4.7         0.2  Iris-setosa\n",
       "3          4.6         0.2  Iris-setosa\n",
       "4          5.0         0.2  Iris-setosa"
      ]
     },
     "execution_count": 2,
     "metadata": {},
     "output_type": "execute_result"
    }
   ],
   "source": [
    "df.head()\n",
    "#print(df)"
   ]
  },
  {
   "cell_type": "code",
   "execution_count": 3,
   "metadata": {},
   "outputs": [
    {
     "data": {
      "text/html": [
       "<div>\n",
       "<style scoped>\n",
       "    .dataframe tbody tr th:only-of-type {\n",
       "        vertical-align: middle;\n",
       "    }\n",
       "\n",
       "    .dataframe tbody tr th {\n",
       "        vertical-align: top;\n",
       "    }\n",
       "\n",
       "    .dataframe thead th {\n",
       "        text-align: right;\n",
       "    }\n",
       "</style>\n",
       "<table border=\"1\" class=\"dataframe\">\n",
       "  <thead>\n",
       "    <tr style=\"text-align: right;\">\n",
       "      <th></th>\n",
       "      <th>SepalLength</th>\n",
       "      <th>PetalWidth</th>\n",
       "      <th>label</th>\n",
       "    </tr>\n",
       "  </thead>\n",
       "  <tbody>\n",
       "    <tr>\n",
       "      <th>0</th>\n",
       "      <td>5.1</td>\n",
       "      <td>0.2</td>\n",
       "      <td>Not-virginica</td>\n",
       "    </tr>\n",
       "    <tr>\n",
       "      <th>1</th>\n",
       "      <td>4.9</td>\n",
       "      <td>0.2</td>\n",
       "      <td>Not-virginica</td>\n",
       "    </tr>\n",
       "    <tr>\n",
       "      <th>2</th>\n",
       "      <td>4.7</td>\n",
       "      <td>0.2</td>\n",
       "      <td>Not-virginica</td>\n",
       "    </tr>\n",
       "    <tr>\n",
       "      <th>3</th>\n",
       "      <td>4.6</td>\n",
       "      <td>0.2</td>\n",
       "      <td>Not-virginica</td>\n",
       "    </tr>\n",
       "    <tr>\n",
       "      <th>4</th>\n",
       "      <td>5.0</td>\n",
       "      <td>0.2</td>\n",
       "      <td>Not-virginica</td>\n",
       "    </tr>\n",
       "  </tbody>\n",
       "</table>\n",
       "</div>"
      ],
      "text/plain": [
       "   SepalLength  PetalWidth          label\n",
       "0          5.1         0.2  Not-virginica\n",
       "1          4.9         0.2  Not-virginica\n",
       "2          4.7         0.2  Not-virginica\n",
       "3          4.6         0.2  Not-virginica\n",
       "4          5.0         0.2  Not-virginica"
      ]
     },
     "execution_count": 3,
     "metadata": {},
     "output_type": "execute_result"
    }
   ],
   "source": [
    "for x in range(0,len(df)):\n",
    "    if (df.iloc[x,-1])==\"Iris-virginica\":\n",
    "        continue\n",
    "    else:\n",
    "        df.iloc[x,-1]=\"Not-virginica\"\n",
    "df.head()       "
   ]
  },
  {
   "cell_type": "code",
   "execution_count": 4,
   "metadata": {},
   "outputs": [],
   "source": [
    "import math\n",
    "def total_error_n_AoS(pred,label,wt):\n",
    "    TE=0\n",
    "    new_wt=numpy.ones_like(wt)\n",
    "    for i in range(0,len(pred)):\n",
    "        if pred[i]!=label[i]:\n",
    "            TE=TE+wt[i]\n",
    "    amount_of_say=0.5*(math.log10((1-TE)/TE))\n",
    "    \n",
    "    for i in range(0,len(pred)):\n",
    "        if pred[i]!=label[i]:\n",
    "            new_wt[i]=wt[i]*(math.exp(amount_of_say))\n",
    "            #print(\"wrong\")\n",
    "        else:\n",
    "            new_wt[i]=wt[i]*(math.exp((-1)*amount_of_say))\n",
    "    new_wt=new_wt/(numpy.sum(new_wt[:]))\n",
    "    #print(new_wt)\n",
    "            \n",
    "    #print(new_wt)\n",
    "    return amount_of_say,new_wt"
   ]
  },
  {
   "cell_type": "code",
   "execution_count": 5,
   "metadata": {},
   "outputs": [],
   "source": [
    "def col_string(a):\n",
    "    col_str=[]\n",
    "    for x in a:\n",
    "        if x=='Iris-virginica':\n",
    "            col_str.append('red')\n",
    "        else:\n",
    "            col_str.append('blue')\n",
    "    return col_str"
   ]
  },
  {
   "cell_type": "code",
   "execution_count": 6,
   "metadata": {},
   "outputs": [],
   "source": [
    "#will need input df,wt2\n",
    "#will need output clf2,AoS,df2\n",
    "def fwd_algo(df,wt2):\n",
    "    df2=create_new_dataset2(df,wt2)\n",
    "    clf2 = clf.fit(df2[:,0:1],df2[:,-1] )\n",
    "    pred2=clf.predict(df2[:,0:1])\n",
    "    AoS2,wt3=total_error_n_AoS(pred2,df2[:,-1],wt2)\n",
    "    return AoS2,wt3,df2,clf2\n"
   ]
  },
  {
   "cell_type": "code",
   "execution_count": 7,
   "metadata": {},
   "outputs": [],
   "source": [
    "import random\n",
    "\n",
    "import pandas as pd\n",
    "def create_new_dataset(df,wt):\n",
    "    #new_dataset=pd.DataFrame()\n",
    "    new_dataset=numpy.empty(df.shape,dtype=object)\n",
    "    cdf=numpy.cumsum(wt)\n",
    "    #print(cdf)\n",
    "    #randnums= np.random.randi\n",
    "    #nt(1,101,len(wt))/100\n",
    "    for i in range(0,len(cdf)):\n",
    "        b=random.uniform(0.01,0.99)\n",
    "        #print(b)\n",
    "        for j in range(0,len(cdf)-1):\n",
    "            if b>cdf[j] and b<=cdf[j+1]:\n",
    "                #print(df.iloc[i,:])\n",
    "                new_dataset[i]=df.iloc[j,:]\n",
    "            \n",
    "                #print(i)\n",
    "    return new_dataset"
   ]
  },
  {
   "cell_type": "code",
   "execution_count": 8,
   "metadata": {},
   "outputs": [],
   "source": [
    "def create_new_dataset2(df,wt):\n",
    "    #new_dataset=pd.DataFrame()\n",
    "    new_dataset=numpy.empty(df.shape,dtype=object)\n",
    "    cdf=numpy.cumsum(wt)\n",
    "    #print(cdf)\n",
    "    #randnums= np.random.randint(1,101,len(wt))/100\n",
    "    for i in range(0,len(cdf)):\n",
    "        b=random.uniform(0.01,0.99)\n",
    "        #print(b)\n",
    "        for j in range(0,len(cdf)-1):\n",
    "            if b>cdf[j] and b<=cdf[j+1]:\n",
    "                #print(df.iloc[i,:])\n",
    "                new_dataset[i]=df[j,:] #removed iloc\n",
    "            \n",
    "                #print(i)\n",
    "    return new_dataset"
   ]
  },
  {
   "cell_type": "code",
   "execution_count": 9,
   "metadata": {},
   "outputs": [
    {
     "data": {
      "text/plain": [
       "<matplotlib.collections.PathCollection at 0xcd22e21f28>"
      ]
     },
     "execution_count": 9,
     "metadata": {},
     "output_type": "execute_result"
    }
   ],
   "source": [
    "import numpy\n",
    "import matplotlib.pyplot as plt\n",
    "training_df=df.iloc[:,0:2]\n",
    "label_df=df.iloc[:,-1]\n",
    "from sklearn import tree\n",
    "\n",
    "X = training_df\n",
    "Y = label_df\n",
    "clf = tree.DecisionTreeClassifier(criterion = \"gini\", max_depth=1)\n",
    "clf = clf.fit(X, Y)\n",
    "pred1=clf.predict(X)\n",
    "a=numpy.ones_like(pred1)\n",
    "a=a/150\n",
    "#print(a)\n",
    "AoS,wt2=total_error_n_AoS(pred1,Y,a)\n",
    "#col=col_string(df2[:,-1])\n",
    "#print(col)\n",
    "plt.scatter(X.iloc[:,0],X.iloc[:,1],c=None)\n",
    "#print(wt2)\n"
   ]
  },
  {
   "cell_type": "code",
   "execution_count": null,
   "metadata": {},
   "outputs": [],
   "source": []
  },
  {
   "cell_type": "code",
   "execution_count": null,
   "metadata": {},
   "outputs": [],
   "source": []
  },
  {
   "cell_type": "code",
   "execution_count": 10,
   "metadata": {},
   "outputs": [
    {
     "data": {
      "text/plain": [
       "<matplotlib.collections.PathCollection at 0xcd23fc4a90>"
      ]
     },
     "execution_count": 10,
     "metadata": {},
     "output_type": "execute_result"
    },
    {
     "data": {
      "image/png": "[encoded data removed]",
      "text/plain": [
       "<Figure size 432x288 with 1 Axes>"
      ]
     },
     "metadata": {
      "needs_background": "light"
     },
     "output_type": "display_data"
    }
   ],
   "source": [
    "\n",
    "df2=create_new_dataset(df,wt2)\n",
    "clf2 = clf.fit(df2[:,0:1],df2[:,-1] )\n",
    "pred2=clf.predict(df2[:,0:1])\n",
    "AoS2,wt3=total_error_n_AoS(pred2,df2[:,-1],wt2)\n",
    "col=col_string(df2[:,-1])\n",
    "plt.scatter(df2[:,0],df2[:,1] ,c=col, alpha=0.5)\n",
    "#print(wt3)\n",
    "##3rd stage\n"
   ]
  },
  {
   "cell_type": "code",
   "execution_count": 11,
   "metadata": {},
   "outputs": [
    {
     "data": {
      "text/plain": [
       "<matplotlib.collections.PathCollection at 0xcd24039c88>"
      ]
     },
     "execution_count": 11,
     "metadata": {},
     "output_type": "execute_result"
    },
    {
     "data": {
      "image/png": "[encoded data removed]",
      "text/plain": [
       "<Figure size 432x288 with 1 Axes>"
      ]
     },
     "metadata": {
      "needs_background": "light"
     },
     "output_type": "display_data"
    }
   ],
   "source": [
    "AoS2,wt3,df3,clf2=fwd_algo(df.values,wt2)\n",
    "col=col_string(df3[:,-1])\n",
    "plt.scatter(df3[:,0],df3[:,1] ,c=col, alpha=0.5)\n",
    "#print(wt3)\n",
    "#numpy.round(a)\n",
    "#wt4.tolist()\n",
    "#wt4=wt4**1000000000\n",
    "#plt.scatter(df3[:,0],df3[:,1] ,c=None, alpha=0.5)\n",
    "#print(clf2)\n",
    "    "
   ]
  },
  {
   "cell_type": "code",
   "execution_count": 12,
   "metadata": {},
   "outputs": [
    {
     "data": {
      "text/plain": [
       "<matplotlib.collections.PathCollection at 0xcd2409e908>"
      ]
     },
     "execution_count": 12,
     "metadata": {},
     "output_type": "execute_result"
    },
    {
     "data": {
      "image/png": "[encoded data removed]",
      "text/plain": [
       "<Figure size 432x288 with 1 Axes>"
      ]
     },
     "metadata": {
      "needs_background": "light"
     },
     "output_type": "display_data"
    }
   ],
   "source": [
    "AoS3,wt4,df4,clf3=fwd_algo(df3,wt3)\n",
    "col=col_string(df4[:,-1])\n",
    "plt.scatter(df4[:,0],df4[:,1] ,c=col, alpha=0.5)\n",
    "#print(wt3)\n",
    "#numpy.round(a)"
   ]
  },
  {
   "cell_type": "code",
   "execution_count": 13,
   "metadata": {},
   "outputs": [
    {
     "data": {
      "text/plain": [
       "<matplotlib.collections.PathCollection at 0xcd240feeb8>"
      ]
     },
     "execution_count": 13,
     "metadata": {},
     "output_type": "execute_result"
    },
    {
     "data": {
      "image/png": "[encoded data removed]",
      "text/plain": [
       "<Figure size 432x288 with 1 Axes>"
      ]
     },
     "metadata": {
      "needs_background": "light"
     },
     "output_type": "display_data"
    }
   ],
   "source": [
    "AoS4,wt5,df5,clf4=fwd_algo(df4,wt4)\n",
    "col=col_string(df5[:,-1])\n",
    "plt.scatter(df5[:,0],df5[:,1] ,c=col, alpha=0.5)\n",
    "#print(wt3)"
   ]
  },
  {
   "cell_type": "code",
   "execution_count": 14,
   "metadata": {},
   "outputs": [
    {
     "data": {
      "text/plain": [
       "<matplotlib.collections.PathCollection at 0xcd24163470>"
      ]
     },
     "execution_count": 14,
     "metadata": {},
     "output_type": "execute_result"
    },
    {
     "data": {
      "image/png": "[encoded data removed]",
      "text/plain": [
       "<Figure size 432x288 with 1 Axes>"
      ]
     },
     "metadata": {
      "needs_background": "light"
     },
     "output_type": "display_data"
    }
   ],
   "source": [
    "AoS5,wt6,df6,clf5=fwd_algo(df5,wt5)\n",
    "col=col_string(df6[:,-1])\n",
    "plt.scatter(df6[:,0],df6[:,1] ,c=col, alpha=0.5)\n",
    "#print(wt3)"
   ]
  },
  {
   "cell_type": "code",
   "execution_count": 15,
   "metadata": {},
   "outputs": [
    {
     "data": {
      "text/plain": [
       "<matplotlib.collections.PathCollection at 0xcd241c29b0>"
      ]
     },
     "execution_count": 15,
     "metadata": {},
     "output_type": "execute_result"
    },
    {
     "data": {
      "image/png": "[encoded data removed]",
      "text/plain": [
       "<Figure size 432x288 with 1 Axes>"
      ]
     },
     "metadata": {
      "needs_background": "light"
     },
     "output_type": "display_data"
    }
   ],
   "source": [
    "AoS6,wt7,df7,clf6=fwd_algo(df6,wt6)\n",
    "col=col_string(df7[:,-1])\n",
    "plt.scatter(df7[:,0],df7[:,1] ,c=col, alpha=0.5)\n",
    "#print(wt3)"
   ]
  },
  {
   "cell_type": "code",
   "execution_count": 16,
   "metadata": {},
   "outputs": [
    {
     "data": {
      "text/plain": [
       "<matplotlib.collections.PathCollection at 0xcd24220f28>"
      ]
     },
     "execution_count": 16,
     "metadata": {},
     "output_type": "execute_result"
    },
    {
     "data": {
      "image/png": "[encoded data removed]",
      "text/plain": [
       "<Figure size 432x288 with 1 Axes>"
      ]
     },
     "metadata": {
      "needs_background": "light"
     },
     "output_type": "display_data"
    }
   ],
   "source": [
    "AoS7,wt8,df8,clf7=fwd_algo(df7,wt7)\n",
    "col=col_string(df8[:,-1])\n",
    "plt.scatter(df8[:,0],df8[:,1] ,c=col, alpha=0.5)\n",
    "#print(wt3)"
   ]
  },
  {
   "cell_type": "code",
   "execution_count": 17,
   "metadata": {},
   "outputs": [
    {
     "data": {
      "text/plain": [
       "<matplotlib.collections.PathCollection at 0xcd242844e0>"
      ]
     },
     "execution_count": 17,
     "metadata": {},
     "output_type": "execute_result"
    },
    {
     "data": {
      "image/png": "[encoded data removed]",
      "text/plain": [
       "<Figure size 432x288 with 1 Axes>"
      ]
     },
     "metadata": {
      "needs_background": "light"
     },
     "output_type": "display_data"
    }
   ],
   "source": [
    "AoS8,wt9,df9,clf8=fwd_algo(df8,wt8)\n",
    "#print(df9)\n",
    "col=col_string(df9[:,-1])\n",
    "plt.scatter(df9[:,0],df9[:,1] ,c=col, alpha=0.5)\n",
    "\n",
    "#print(wt3)"
   ]
  },
  {
   "cell_type": "code",
   "execution_count": null,
   "metadata": {},
   "outputs": [],
   "source": []
  },
  {
   "cell_type": "code",
   "execution_count": null,
   "metadata": {},
   "outputs": [],
   "source": []
  },
  {
   "cell_type": "code",
   "execution_count": null,
   "metadata": {},
   "outputs": [],
   "source": []
  },
  {
   "cell_type": "code",
   "execution_count": 18,
   "metadata": {},
   "outputs": [
    {
     "data": {
      "text/plain": [
       "'import math\\ndef total_error_n_AoS(pred,label,wt):\\n    TE=0\\n    new_wt=numpy.ones_like(wt)\\n    for i in range(0,len(pred)):\\n        if pred[i]!=label[i]:\\n            TE=TE+wt[i]\\n    amount_of_say=0.5*(math.log10((1-TE)/TE))\\n    \\n    for i in range(0,len(pred)):\\n        if pred[i]!=label[i]:\\n            new_wt[i]=wt[i]*(math.exp(amount_of_say))\\n            #print(\"wrong\")\\n        else:\\n            new_wt[i]=wt[i]*(math.exp((-1)*amount_of_say))\\n    new_wt=new_wt/(numpy.sum(new_wt[:]))\\n    #print(new_wt)\\n            \\n    #print(new_wt)\\n    return amount_of_say,new_wt\\n    '"
      ]
     },
     "execution_count": 18,
     "metadata": {},
     "output_type": "execute_result"
    }
   ],
   "source": [
    "'''import math\n",
    "def total_error_n_AoS(pred,label,wt):\n",
    "    TE=0\n",
    "    new_wt=numpy.ones_like(wt)\n",
    "    for i in range(0,len(pred)):\n",
    "        if pred[i]!=label[i]:\n",
    "            TE=TE+wt[i]\n",
    "    amount_of_say=0.5*(math.log10((1-TE)/TE))\n",
    "    \n",
    "    for i in range(0,len(pred)):\n",
    "        if pred[i]!=label[i]:\n",
    "            new_wt[i]=wt[i]*(math.exp(amount_of_say))\n",
    "            #print(\"wrong\")\n",
    "        else:\n",
    "            new_wt[i]=wt[i]*(math.exp((-1)*amount_of_say))\n",
    "    new_wt=new_wt/(numpy.sum(new_wt[:]))\n",
    "    #print(new_wt)\n",
    "            \n",
    "    #print(new_wt)\n",
    "    return amount_of_say,new_wt\n",
    "    '''"
   ]
  },
  {
   "cell_type": "code",
   "execution_count": null,
   "metadata": {},
   "outputs": [],
   "source": [
    "\n"
   ]
  },
  {
   "cell_type": "code",
   "execution_count": null,
   "metadata": {},
   "outputs": [],
   "source": []
  },
  {
   "cell_type": "code",
   "execution_count": 19,
   "metadata": {},
   "outputs": [
    {
     "name": "stdout",
     "output_type": "stream",
     "text": [
      "0.5456590560297114\n"
     ]
    }
   ],
   "source": [
    "import random\n",
    "b=random.uniform(0,1)\n",
    "print(b)"
   ]
  },
  {
   "cell_type": "code",
   "execution_count": null,
   "metadata": {},
   "outputs": [],
   "source": []
  }
 ],
 "metadata": {
  "kernelspec": {
   "display_name": "Python 3",
   "language": "python",
   "name": "python3"
  },
  "language_info": {
   "codemirror_mode": {
    "name": "ipython",
    "version": 3
   },
   "file_extension": ".py",
   "mimetype": "text/x-python",
   "name": "python",
   "nbconvert_exporter": "python",
   "pygments_lexer": "ipython3",
   "version": "3.7.1"
  }
 },
 "nbformat": 4,
 "nbformat_minor": 2
}
