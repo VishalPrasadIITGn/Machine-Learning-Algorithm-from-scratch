{
 "cells": [
  {
   "cell_type": "markdown",
   "metadata": {},
   "source": [
    "## 2(a) Using scikit learn to learn a model"
   ]
  },
  {
   "cell_type": "code",
   "execution_count": 164,
   "metadata": {},
   "outputs": [
    {
     "name": "stdout",
     "output_type": "stream",
     "text": [
      "[[1 2]\n",
      " [2 4]\n",
      " [3 6]\n",
      " [4 8]]\n",
      "[2 3 4 5]\n",
      "Coefficients are\n",
      "[0.2 0.4]\n"
     ]
    },
    {
     "data": {
      "image/png": "[encoded data removed]",
      "text/plain": [
       "<Figure size 432x288 with 1 Axes>"
      ]
     },
     "metadata": {
      "needs_background": "light"
     },
     "output_type": "display_data"
    }
   ],
   "source": [
    "import matplotlib.pyplot as plt\n",
    "import numpy as np\n",
    "from sklearn.linear_model import LinearRegression\n",
    "X=np.array([[1,2],[2,4],[3,6],[4,8]])\n",
    "print(X)\n",
    "Y=np.array([2,3,4,5])\n",
    "print(Y)\n",
    "#reg = LinearRegression().fit(X, Y)\n",
    "lin_reg=LinearRegression().fit(X, Y)\n",
    "scr=lin_reg.score\n",
    "#print(scr)\n",
    "C=lin_reg.coef_\n",
    "print(\"Coefficients are\")\n",
    "print(C)\n",
    "plt.scatter(X[:,0],X[:,1])\n",
    "plt.plot(X[:,0],X[:,1])\n",
    "plt.show()\n",
    "#print(reg)"
   ]
  },
  {
   "cell_type": "markdown",
   "metadata": {},
   "source": [
    "## 2(b) Normal Equation method"
   ]
  },
  {
   "cell_type": "code",
   "execution_count": 251,
   "metadata": {},
   "outputs": [
    {
     "name": "stdout",
     "output_type": "stream",
     "text": [
      "Output feature are [1.  0.2 0.4]\n",
      "Output feature are [1.  0.2 0.4]\n"
     ]
    }
   ],
   "source": [
    "import numpy as np\n",
    "from numpy.linalg import multi_dot\n",
    "from sklearn.linear_model import LinearRegression\n",
    "X=np.array([[1,1,2],[1,2,4],[1,3,6],[1,4,8]])\n",
    "Y=np.array([2,3,4,5])\n",
    "X_dash=X.transpose()\n",
    "#print(X)\n",
    "#print(X_dash)\n",
    "X2=np.dot(X_dash,X)\n",
    "X3=np.linalg.pinv(X2)\n",
    "X4=np.dot(X3,X_dash)\n",
    "X41=np.dot(X4,Y)\n",
    "X42=multi_dot([X3,X_dash,Y])\n",
    "print(\"Output feature are\",X41)\n",
    "print(\"Output feature are\",X42)\n"
   ]
  },
  {
   "cell_type": "markdown",
   "metadata": {},
   "source": [
    "### [ X(T) * X] is non-invertible because one row of the matrix can be written in form of the other row. Or we can say that both rows are same, and hence matrix is singular. \n",
    "### Scikit learn is calculating the PSEUDO-INVERSE of the matrix."
   ]
  },
  {
   "cell_type": "markdown",
   "metadata": {},
   "source": [
    "## 3(a) Scikit learn’s linear regression module for the real estate price prediction regression problem."
   ]
  },
  {
   "cell_type": "code",
   "execution_count": 3,
   "metadata": {},
   "outputs": [
    {
     "data": {
      "text/html": [
       "<div>\n",
       "<style scoped>\n",
       "    .dataframe tbody tr th:only-of-type {\n",
       "        vertical-align: middle;\n",
       "    }\n",
       "\n",
       "    .dataframe tbody tr th {\n",
       "        vertical-align: top;\n",
       "    }\n",
       "\n",
       "    .dataframe thead th {\n",
       "        text-align: right;\n",
       "    }\n",
       "</style>\n",
       "<table border=\"1\" class=\"dataframe\">\n",
       "  <thead>\n",
       "    <tr style=\"text-align: right;\">\n",
       "      <th></th>\n",
       "      <th>No</th>\n",
       "      <th>X1 transaction date</th>\n",
       "      <th>X2 house age</th>\n",
       "      <th>X3 distance to the nearest MRT station</th>\n",
       "      <th>X4 number of convenience stores</th>\n",
       "      <th>X5 latitude</th>\n",
       "      <th>X6 longitude</th>\n",
       "      <th>Y house price of unit area</th>\n",
       "    </tr>\n",
       "  </thead>\n",
       "  <tbody>\n",
       "    <tr>\n",
       "      <th>0</th>\n",
       "      <td>1</td>\n",
       "      <td>2012.917</td>\n",
       "      <td>32.0</td>\n",
       "      <td>84.87882</td>\n",
       "      <td>10</td>\n",
       "      <td>24.98298</td>\n",
       "      <td>121.54024</td>\n",
       "      <td>37.9</td>\n",
       "    </tr>\n",
       "    <tr>\n",
       "      <th>1</th>\n",
       "      <td>2</td>\n",
       "      <td>2012.917</td>\n",
       "      <td>19.5</td>\n",
       "      <td>306.59470</td>\n",
       "      <td>9</td>\n",
       "      <td>24.98034</td>\n",
       "      <td>121.53951</td>\n",
       "      <td>42.2</td>\n",
       "    </tr>\n",
       "    <tr>\n",
       "      <th>2</th>\n",
       "      <td>3</td>\n",
       "      <td>2013.583</td>\n",
       "      <td>13.3</td>\n",
       "      <td>561.98450</td>\n",
       "      <td>5</td>\n",
       "      <td>24.98746</td>\n",
       "      <td>121.54391</td>\n",
       "      <td>47.3</td>\n",
       "    </tr>\n",
       "    <tr>\n",
       "      <th>3</th>\n",
       "      <td>4</td>\n",
       "      <td>2013.500</td>\n",
       "      <td>13.3</td>\n",
       "      <td>561.98450</td>\n",
       "      <td>5</td>\n",
       "      <td>24.98746</td>\n",
       "      <td>121.54391</td>\n",
       "      <td>54.8</td>\n",
       "    </tr>\n",
       "    <tr>\n",
       "      <th>4</th>\n",
       "      <td>5</td>\n",
       "      <td>2012.833</td>\n",
       "      <td>5.0</td>\n",
       "      <td>390.56840</td>\n",
       "      <td>5</td>\n",
       "      <td>24.97937</td>\n",
       "      <td>121.54245</td>\n",
       "      <td>43.1</td>\n",
       "    </tr>\n",
       "  </tbody>\n",
       "</table>\n",
       "</div>"
      ],
      "text/plain": [
       "   No  X1 transaction date  X2 house age  \\\n",
       "0   1             2012.917          32.0   \n",
       "1   2             2012.917          19.5   \n",
       "2   3             2013.583          13.3   \n",
       "3   4             2013.500          13.3   \n",
       "4   5             2012.833           5.0   \n",
       "\n",
       "   X3 distance to the nearest MRT station  X4 number of convenience stores  \\\n",
       "0                                84.87882                               10   \n",
       "1                               306.59470                                9   \n",
       "2                               561.98450                                5   \n",
       "3                               561.98450                                5   \n",
       "4                               390.56840                                5   \n",
       "\n",
       "   X5 latitude  X6 longitude  Y house price of unit area  \n",
       "0     24.98298     121.54024                        37.9  \n",
       "1     24.98034     121.53951                        42.2  \n",
       "2     24.98746     121.54391                        47.3  \n",
       "3     24.98746     121.54391                        54.8  \n",
       "4     24.97937     121.54245                        43.1  "
      ]
     },
     "execution_count": 3,
     "metadata": {},
     "output_type": "execute_result"
    }
   ],
   "source": [
    "import pandas as pd\n",
    "df = pd.read_csv(\"Real estate valuation data set.csv\") # Import data\n",
    "#df = df.ix[:,'SalesID':'ProductGroupDesc'] # Remove extraneous features\n",
    "#df # Show our data\n",
    "df.head()"
   ]
  },
  {
   "cell_type": "code",
   "execution_count": 253,
   "metadata": {},
   "outputs": [],
   "source": [
    "input_feat_df=df.iloc[:,1:7]\n",
    "output_feat_df=df.iloc[:,7]\n",
    "#print(output_feat_df)"
   ]
  },
  {
   "cell_type": "code",
   "execution_count": 254,
   "metadata": {},
   "outputs": [],
   "source": [
    "Tr,Tc=df.shape"
   ]
  },
  {
   "cell_type": "code",
   "execution_count": 255,
   "metadata": {},
   "outputs": [],
   "source": [
    "training_input_feat_df=input_feat_df.iloc[0:300,:]\n",
    "#print(training_input_feat_df)  v\n",
    "testing_input_feat_df=input_feat_df.iloc[301:414,:]\n",
    "#print(testing_input_feat_df)    v\n",
    "training_output_feat_df=output_feat_df.iloc[0:300]\n",
    "#print(training_output_feat_df)\n",
    "testing_output_feat_df=output_feat_df.iloc[301:414]\n",
    "#print(testing_output_feat_df)"
   ]
  },
  {
   "cell_type": "code",
   "execution_count": 256,
   "metadata": {},
   "outputs": [],
   "source": [
    "from sklearn.linear_model import LinearRegression\n",
    "reg=LinearRegression().fit(training_input_feat_df, training_output_feat_df)\n",
    "output_price=reg.predict(testing_input_feat_df)\n"
   ]
  },
  {
   "cell_type": "code",
   "execution_count": 257,
   "metadata": {},
   "outputs": [
    {
     "name": "stdout",
     "output_type": "stream",
     "text": [
      "RMS error is 0.06926152825288803\n",
      "Regression Coefficient is [ 79.61312521  -0.11339107  -0.23627913   0.09261661  54.77249968\n",
      " -16.66945068]\n"
     ]
    }
   ],
   "source": [
    "from sklearn.metrics import mean_squared_error\n",
    "from math import sqrt\n",
    "\n",
    "rms = sqrt(mean_squared_error(testing_output_feat_df, output_price))\n",
    "print(\"RMS error is\",rms)\n",
    "print(\"Regression Coefficient is\",reg.coef_)"
   ]
  },
  {
   "cell_type": "markdown",
   "metadata": {},
   "source": [
    "### Larger coefficients show that it will have greater say in prediction of output. Thus any small change in it will result in more change in output"
   ]
  },
  {
   "cell_type": "markdown",
   "metadata": {},
   "source": [
    "## 3 (c) standardze the dataset"
   ]
  },
  {
   "cell_type": "code",
   "execution_count": 260,
   "metadata": {},
   "outputs": [],
   "source": [
    "#print(df)\n",
    "def standardize_dataset(df):\n",
    "    r,c=df.shape\n",
    "    #df_new=np.zeros(df.shape)\n",
    "    df_new=df\n",
    "    #pd.Dataframe(data=df_new,index=np.array(range(1,r)),columns=np.array(range(1,c))\n",
    "    for i in range(0,c):\n",
    "        temp=df.iloc[:,i]\n",
    "        m=temp.max()\n",
    "        #print(m)\n",
    "        temp=temp/m\n",
    "        #print(temp)\n",
    "        df_new.iloc[:,i]=temp\n",
    "    #print(df_new)\n",
    "    return df_new"
   ]
  },
  {
   "cell_type": "code",
   "execution_count": 261,
   "metadata": {},
   "outputs": [
    {
     "data": {
      "text/html": [
       "<div>\n",
       "<style scoped>\n",
       "    .dataframe tbody tr th:only-of-type {\n",
       "        vertical-align: middle;\n",
       "    }\n",
       "\n",
       "    .dataframe tbody tr th {\n",
       "        vertical-align: top;\n",
       "    }\n",
       "\n",
       "    .dataframe thead th {\n",
       "        text-align: right;\n",
       "    }\n",
       "</style>\n",
       "<table border=\"1\" class=\"dataframe\">\n",
       "  <thead>\n",
       "    <tr style=\"text-align: right;\">\n",
       "      <th></th>\n",
       "      <th>No</th>\n",
       "      <th>X1 transaction date</th>\n",
       "      <th>X2 house age</th>\n",
       "      <th>X3 distance to the nearest MRT station</th>\n",
       "      <th>X4 number of convenience stores</th>\n",
       "      <th>X5 latitude</th>\n",
       "      <th>X6 longitude</th>\n",
       "      <th>Y house price of unit area</th>\n",
       "    </tr>\n",
       "  </thead>\n",
       "  <tbody>\n",
       "    <tr>\n",
       "      <th>0</th>\n",
       "      <td>0.002415</td>\n",
       "      <td>0.999669</td>\n",
       "      <td>0.730594</td>\n",
       "      <td>0.013082</td>\n",
       "      <td>1.0</td>\n",
       "      <td>0.998736</td>\n",
       "      <td>0.999786</td>\n",
       "      <td>0.322553</td>\n",
       "    </tr>\n",
       "    <tr>\n",
       "      <th>1</th>\n",
       "      <td>0.004831</td>\n",
       "      <td>0.999669</td>\n",
       "      <td>0.445205</td>\n",
       "      <td>0.047256</td>\n",
       "      <td>0.9</td>\n",
       "      <td>0.998631</td>\n",
       "      <td>0.999780</td>\n",
       "      <td>0.359149</td>\n",
       "    </tr>\n",
       "    <tr>\n",
       "      <th>2</th>\n",
       "      <td>0.007246</td>\n",
       "      <td>1.000000</td>\n",
       "      <td>0.303653</td>\n",
       "      <td>0.086619</td>\n",
       "      <td>0.5</td>\n",
       "      <td>0.998915</td>\n",
       "      <td>0.999816</td>\n",
       "      <td>0.402553</td>\n",
       "    </tr>\n",
       "    <tr>\n",
       "      <th>3</th>\n",
       "      <td>0.009662</td>\n",
       "      <td>0.999959</td>\n",
       "      <td>0.303653</td>\n",
       "      <td>0.086619</td>\n",
       "      <td>0.5</td>\n",
       "      <td>0.998915</td>\n",
       "      <td>0.999816</td>\n",
       "      <td>0.466383</td>\n",
       "    </tr>\n",
       "    <tr>\n",
       "      <th>4</th>\n",
       "      <td>0.012077</td>\n",
       "      <td>0.999628</td>\n",
       "      <td>0.114155</td>\n",
       "      <td>0.060198</td>\n",
       "      <td>0.5</td>\n",
       "      <td>0.998592</td>\n",
       "      <td>0.999804</td>\n",
       "      <td>0.366809</td>\n",
       "    </tr>\n",
       "  </tbody>\n",
       "</table>\n",
       "</div>"
      ],
      "text/plain": [
       "         No  X1 transaction date  X2 house age  \\\n",
       "0  0.002415             0.999669      0.730594   \n",
       "1  0.004831             0.999669      0.445205   \n",
       "2  0.007246             1.000000      0.303653   \n",
       "3  0.009662             0.999959      0.303653   \n",
       "4  0.012077             0.999628      0.114155   \n",
       "\n",
       "   X3 distance to the nearest MRT station  X4 number of convenience stores  \\\n",
       "0                                0.013082                              1.0   \n",
       "1                                0.047256                              0.9   \n",
       "2                                0.086619                              0.5   \n",
       "3                                0.086619                              0.5   \n",
       "4                                0.060198                              0.5   \n",
       "\n",
       "   X5 latitude  X6 longitude  Y house price of unit area  \n",
       "0     0.998736      0.999786                    0.322553  \n",
       "1     0.998631      0.999780                    0.359149  \n",
       "2     0.998915      0.999816                    0.402553  \n",
       "3     0.998915      0.999816                    0.466383  \n",
       "4     0.998592      0.999804                    0.366809  "
      ]
     },
     "execution_count": 261,
     "metadata": {},
     "output_type": "execute_result"
    }
   ],
   "source": [
    "df_new=standardize_dataset(df)\n",
    "df_new.head()"
   ]
  },
  {
   "cell_type": "code",
   "execution_count": 262,
   "metadata": {},
   "outputs": [],
   "source": [
    "input_feat_df_new=df_new.iloc[:,1:7]\n",
    "output_feat_df_new=df_new.iloc[:,7]\n",
    "#print(output_feat_df)"
   ]
  },
  {
   "cell_type": "code",
   "execution_count": 263,
   "metadata": {},
   "outputs": [],
   "source": [
    "training_input_feat_df_new=input_feat_df_new.iloc[0:300,:]\n",
    "#print(training_input_feat_df)  v\n",
    "testing_input_feat_df_new=input_feat_df_new.iloc[301:414,:]\n",
    "#print(testing_input_feat_df)    v\n",
    "training_output_feat_df_new=output_feat_df_new.iloc[0:300]\n",
    "#print(training_output_feat_df)\n",
    "testing_output_feat_df_new=output_feat_df_new.iloc[301:414]\n",
    "#print(testing_output_feat_df)"
   ]
  },
  {
   "cell_type": "code",
   "execution_count": 264,
   "metadata": {},
   "outputs": [],
   "source": [
    "reg_new=LinearRegression().fit(training_input_feat_df_new, training_output_feat_df_new)\n",
    "output_price_new=reg.predict(testing_input_feat_df_new)"
   ]
  },
  {
   "cell_type": "code",
   "execution_count": 266,
   "metadata": {},
   "outputs": [
    {
     "name": "stdout",
     "output_type": "stream",
     "text": [
      "RMS error is 0.06926152825288803\n",
      "Coefiicients are [ 79.61312521  -0.11339107  -0.23627913   0.09261661  54.77249968\n",
      " -16.66945068]\n"
     ]
    }
   ],
   "source": [
    "from sklearn.metrics import mean_squared_error\n",
    "from math import sqrt\n",
    "\n",
    "rms_new = sqrt(mean_squared_error(testing_output_feat_df_new, output_price_new))\n",
    "print(\"RMS error is\",rms_new)\n",
    "print(\"Coefiicients are\",reg_new.coef_)"
   ]
  },
  {
   "cell_type": "markdown",
   "metadata": {},
   "source": [
    "### In the case of standardize dataset gradient descent should converge quickly. It should reduce variance"
   ]
  },
  {
   "cell_type": "markdown",
   "metadata": {},
   "source": [
    "\n",
    "## 3(d) Residual distribution"
   ]
  },
  {
   "cell_type": "code",
   "execution_count": 562,
   "metadata": {},
   "outputs": [
    {
     "data": {
      "image/png": "[encoded data removed]",
      "text/plain": [
       "<Figure size 432x288 with 1 Axes>"
      ]
     },
     "metadata": {
      "needs_background": "light"
     },
     "output_type": "display_data"
    },
    {
     "data": {
      "image/png": "[encoded data removed]",
      "text/plain": [
       "<Figure size 432x288 with 1 Axes>"
      ]
     },
     "metadata": {
      "needs_background": "light"
     },
     "output_type": "display_data"
    },
    {
     "data": {
      "image/png": "[encoded data removed]",
      "text/plain": [
       "<Figure size 432x288 with 1 Axes>"
      ]
     },
     "metadata": {
      "needs_background": "light"
     },
     "output_type": "display_data"
    },
    {
     "data": {
      "image/png": "[encoded data removed]",
      "text/plain": [
       "<Figure size 432x288 with 1 Axes>"
      ]
     },
     "metadata": {
      "needs_background": "light"
     },
     "output_type": "display_data"
    }
   ],
   "source": [
    "err=(testing_output_feat_df_new-output_price_new)\n",
    "#print(err)\n",
    "for i in range(0,4):\n",
    "    #plt.scatter(input_feat_df.iloc[0:300,0],err)\n",
    "    plt.scatter(testing_input_feat_df.iloc[:,i],err)\n",
    "    plt.show()"
   ]
  },
  {
   "cell_type": "code",
   "execution_count": null,
   "metadata": {},
   "outputs": [],
   "source": []
  },
  {
   "cell_type": "markdown",
   "metadata": {},
   "source": [
    "### The distribution of residual is random.  Ideally it should be normal."
   ]
  },
  {
   "cell_type": "markdown",
   "metadata": {},
   "source": [
    "### 3(e) cross-validation"
   ]
  },
  {
   "cell_type": "code",
   "execution_count": 590,
   "metadata": {},
   "outputs": [],
   "source": [
    "from sklearn import datasets, linear_model\n",
    "from sklearn.model_selection import cross_validate\n",
    "#from sklearn.metrics.scorer import make_scorer\n",
    "#from sklearn.metrics import confusion_matrix\n",
    "#from sklearn.svm import LinearSVC\n",
    "diabetes = datasets.load_diabetes()\n",
    "X = diabetes.data[:150]\n",
    "X=df.iloc[:,1:4]\n",
    "y = diabetes.target[:150]\n",
    "y=df.iloc[:,7]\n",
    "lasso = linear_model.Lasso()\n",
    "#print(diabetes)"
   ]
  },
  {
   "cell_type": "code",
   "execution_count": 623,
   "metadata": {},
   "outputs": [
    {
     "name": "stdout",
     "output_type": "stream",
     "text": [
      "-0.0015382157453345258\n",
      "-7.464715666616328e-05\n",
      "-0.0008139426809699034\n",
      "-0.0017694886366583784\n"
     ]
    }
   ],
   "source": [
    "cv_results = cross_validate(lasso, X, y, cv=5,return_train_score=True,return_estimator=True)\n",
    "x1=np.max(cv_results['test_score'])\n",
    "print(x1)\n",
    "#print(cv_results['test_score']) \n",
    "cv_results2 = cross_validate(lasso, X.iloc[:,1:4], y, cv=4,return_train_score=True,return_estimator=True)\n",
    "print(np.max(cv_results2['test_score'])) \n",
    "cv_results3 = cross_validate(lasso, X.iloc[:,1:3], y, cv=3,return_train_score=True,return_estimator=True)\n",
    "print(np.max(cv_results3['test_score'])) \n",
    "cv_results4 = cross_validate(lasso, X.iloc[:,1:2], y, cv=2,return_train_score=True,return_estimator=True)\n",
    "print(np.max(cv_results4['test_score'])) \n"
   ]
  },
  {
   "cell_type": "markdown",
   "metadata": {},
   "source": [
    "### It is minimum for 4 features"
   ]
  },
  {
   "cell_type": "markdown",
   "metadata": {},
   "source": [
    "### 3(e) (ii): Stepwise Forward selection"
   ]
  },
  {
   "cell_type": "code",
   "execution_count": 712,
   "metadata": {},
   "outputs": [
    {
     "name": "stdout",
     "output_type": "stream",
     "text": [
      "[1, 2, 3, 4]\n",
      "[1, 2, 3, 4, 1, 2, 3, 4]\n",
      "[1, 2, 3, 4, 1, 2, 3, 4, 1, 2, 3, 4]\n",
      "[1, 2, 3, 4, 1, 2, 3, 4, 1, 2, 3, 4, 1, 2, 3, 4]\n"
     ]
    }
   ],
   "source": [
    "list_of_in=[]\n",
    "temp_var=[]\n",
    "\n",
    "final_list=[]\n",
    "#print(training_input_feat_df_new.iloc[:,1])\n",
    "#reg_new=LinearRegression().fit(training_input_feat_df_new.iloc[:,1], training_output_feat_df_new)\n",
    "for j in range(1,5):\n",
    "    for i in range(1,5):\n",
    "            error=[]\n",
    "        #if i not in final_list:\n",
    "            temp_var.append(i)\n",
    "            reg_new=LinearRegression().fit(training_input_feat_df_new.iloc[:,temp_var], training_output_feat_df_new)\n",
    "            temp_var.pop()\n",
    "            output_price_new=reg.predict(testing_input_feat_df_new)\n",
    "            rms_new = sqrt(mean_squared_error(testing_output_feat_df_new, output_price_new))\n",
    "            #print(rms)\n",
    "            error.append(rms_new)\n",
    "            v,k=min((v,k) for (k,v) in enumerate(error))\n",
    "            final_list.append(i)\n",
    "    print(final_list)"
   ]
  },
  {
   "cell_type": "markdown",
   "metadata": {},
   "source": [
    "   ## Question Number 4\n",
    "   "
   ]
  },
  {
   "cell_type": "markdown",
   "metadata": {},
   "source": [
    "### Qn no 4(a) Normal Equation"
   ]
  },
  {
   "cell_type": "code",
   "execution_count": 127,
   "metadata": {},
   "outputs": [
    {
     "data": {
      "text/html": [
       "<div>\n",
       "<style scoped>\n",
       "    .dataframe tbody tr th:only-of-type {\n",
       "        vertical-align: middle;\n",
       "    }\n",
       "\n",
       "    .dataframe tbody tr th {\n",
       "        vertical-align: top;\n",
       "    }\n",
       "\n",
       "    .dataframe thead th {\n",
       "        text-align: right;\n",
       "    }\n",
       "</style>\n",
       "<table border=\"1\" class=\"dataframe\">\n",
       "  <thead>\n",
       "    <tr style=\"text-align: right;\">\n",
       "      <th></th>\n",
       "      <th>No</th>\n",
       "      <th>X1 transaction date</th>\n",
       "      <th>X2 house age</th>\n",
       "      <th>X3 distance to the nearest MRT station</th>\n",
       "      <th>X4 number of convenience stores</th>\n",
       "      <th>X5 latitude</th>\n",
       "      <th>X6 longitude</th>\n",
       "      <th>Y house price of unit area</th>\n",
       "    </tr>\n",
       "  </thead>\n",
       "  <tbody>\n",
       "    <tr>\n",
       "      <th>0</th>\n",
       "      <td>1</td>\n",
       "      <td>2012.917</td>\n",
       "      <td>32.0</td>\n",
       "      <td>84.87882</td>\n",
       "      <td>10</td>\n",
       "      <td>24.98298</td>\n",
       "      <td>121.54024</td>\n",
       "      <td>37.9</td>\n",
       "    </tr>\n",
       "    <tr>\n",
       "      <th>1</th>\n",
       "      <td>2</td>\n",
       "      <td>2012.917</td>\n",
       "      <td>19.5</td>\n",
       "      <td>306.59470</td>\n",
       "      <td>9</td>\n",
       "      <td>24.98034</td>\n",
       "      <td>121.53951</td>\n",
       "      <td>42.2</td>\n",
       "    </tr>\n",
       "    <tr>\n",
       "      <th>2</th>\n",
       "      <td>3</td>\n",
       "      <td>2013.583</td>\n",
       "      <td>13.3</td>\n",
       "      <td>561.98450</td>\n",
       "      <td>5</td>\n",
       "      <td>24.98746</td>\n",
       "      <td>121.54391</td>\n",
       "      <td>47.3</td>\n",
       "    </tr>\n",
       "    <tr>\n",
       "      <th>3</th>\n",
       "      <td>4</td>\n",
       "      <td>2013.500</td>\n",
       "      <td>13.3</td>\n",
       "      <td>561.98450</td>\n",
       "      <td>5</td>\n",
       "      <td>24.98746</td>\n",
       "      <td>121.54391</td>\n",
       "      <td>54.8</td>\n",
       "    </tr>\n",
       "    <tr>\n",
       "      <th>4</th>\n",
       "      <td>5</td>\n",
       "      <td>2012.833</td>\n",
       "      <td>5.0</td>\n",
       "      <td>390.56840</td>\n",
       "      <td>5</td>\n",
       "      <td>24.97937</td>\n",
       "      <td>121.54245</td>\n",
       "      <td>43.1</td>\n",
       "    </tr>\n",
       "  </tbody>\n",
       "</table>\n",
       "</div>"
      ],
      "text/plain": [
       "   No  X1 transaction date  X2 house age  \\\n",
       "0   1             2012.917          32.0   \n",
       "1   2             2012.917          19.5   \n",
       "2   3             2013.583          13.3   \n",
       "3   4             2013.500          13.3   \n",
       "4   5             2012.833           5.0   \n",
       "\n",
       "   X3 distance to the nearest MRT station  X4 number of convenience stores  \\\n",
       "0                                84.87882                               10   \n",
       "1                               306.59470                                9   \n",
       "2                               561.98450                                5   \n",
       "3                               561.98450                                5   \n",
       "4                               390.56840                                5   \n",
       "\n",
       "   X5 latitude  X6 longitude  Y house price of unit area  \n",
       "0     24.98298     121.54024                        37.9  \n",
       "1     24.98034     121.53951                        42.2  \n",
       "2     24.98746     121.54391                        47.3  \n",
       "3     24.98746     121.54391                        54.8  \n",
       "4     24.97937     121.54245                        43.1  "
      ]
     },
     "execution_count": 127,
     "metadata": {},
     "output_type": "execute_result"
    }
   ],
   "source": [
    "import pandas as pd\n",
    "df2 = pd.read_csv(\"Real estate valuation data set.csv\") # Import data\n",
    "#df = df.ix[:,'SalesID':'ProductGroupDesc'] # Remove extraneous features\n",
    "#df # Show our data\n",
    "df2.head()"
   ]
  },
  {
   "cell_type": "code",
   "execution_count": 281,
   "metadata": {},
   "outputs": [],
   "source": [
    "\n",
    "def normalEquationRegression(df):\n",
    "    #X=np.array([[1,1,2],[1,2,4],[1,3,6],[1,4,8]])\n",
    "    X=df2.iloc[:,1:7]\n",
    "    Y=df2.iloc[:,7]\n",
    "    X_dash=X.transpose()\n",
    "    #print(X)\n",
    "    #print(X_dash)\n",
    "    X2=np.dot(X_dash,X)\n",
    "    X3=np.linalg.pinv(X2)\n",
    "    X4=np.dot(X3,X_dash)\n",
    "    X41=np.dot(X4,Y)\n",
    "    X42=multi_dot([X3,X_dash,Y])\n",
    "    #print(\"Output feature are\",X41)\n",
    "    print(\"Output feature are\",X42)\n",
    "    return X42"
   ]
  },
  {
   "cell_type": "code",
   "execution_count": 645,
   "metadata": {},
   "outputs": [
    {
     "name": "stdout",
     "output_type": "stream",
     "text": [
      "Output feature are [ 3.74005219e+00 -2.70810191e-01 -5.49449021e-03  1.12902867e+00\n",
      "  2.03314224e+02 -1.03360354e+02]\n"
     ]
    },
    {
     "name": "stderr",
     "output_type": "stream",
     "text": [
      "F:\\Anacondaa\\lib\\site-packages\\ipykernel_launcher.py:2: DeprecationWarning: time.clock has been deprecated in Python 3.3 and will be removed from Python 3.8: use time.perf_counter or time.process_time instead\n",
      "  \n",
      "F:\\Anacondaa\\lib\\site-packages\\ipykernel_launcher.py:4: DeprecationWarning: time.clock has been deprecated in Python 3.3 and will be removed from Python 3.8: use time.perf_counter or time.process_time instead\n",
      "  after removing the cwd from sys.path.\n"
     ]
    }
   ],
   "source": [
    "import time\n",
    "start = time.clock()\n",
    "out_feat=normalEquationRegression(df)\n",
    "t1=(time.clock()-start)"
   ]
  },
  {
   "cell_type": "code",
   "execution_count": 647,
   "metadata": {},
   "outputs": [
    {
     "name": "stdout",
     "output_type": "stream",
     "text": [
      "error for normal equation is 77.99210449988091\n",
      "time taken is 0.012805227073840797\n"
     ]
    }
   ],
   "source": [
    "error_normal=np.sum(((df2.iloc[:,1:7]@out_feat)-df2.iloc[:,7])**2)/len(df2)\n",
    "print(\"error for normal equation is\",error_normal)\n",
    "print(\"time taken is\",t1)"
   ]
  },
  {
   "cell_type": "markdown",
   "metadata": {},
   "source": [
    "## 4(b) Gradient Descent"
   ]
  },
  {
   "cell_type": "code",
   "execution_count": 631,
   "metadata": {},
   "outputs": [
    {
     "data": {
      "text/html": [
       "<div>\n",
       "<style scoped>\n",
       "    .dataframe tbody tr th:only-of-type {\n",
       "        vertical-align: middle;\n",
       "    }\n",
       "\n",
       "    .dataframe tbody tr th {\n",
       "        vertical-align: top;\n",
       "    }\n",
       "\n",
       "    .dataframe thead th {\n",
       "        text-align: right;\n",
       "    }\n",
       "</style>\n",
       "<table border=\"1\" class=\"dataframe\">\n",
       "  <thead>\n",
       "    <tr style=\"text-align: right;\">\n",
       "      <th></th>\n",
       "      <th>No</th>\n",
       "      <th>X1 transaction date</th>\n",
       "      <th>X2 house age</th>\n",
       "      <th>X3 distance to the nearest MRT station</th>\n",
       "      <th>X4 number of convenience stores</th>\n",
       "      <th>X5 latitude</th>\n",
       "      <th>X6 longitude</th>\n",
       "      <th>Y house price of unit area</th>\n",
       "    </tr>\n",
       "  </thead>\n",
       "  <tbody>\n",
       "    <tr>\n",
       "      <th>0</th>\n",
       "      <td>1</td>\n",
       "      <td>2012.917</td>\n",
       "      <td>32.0</td>\n",
       "      <td>84.87882</td>\n",
       "      <td>10</td>\n",
       "      <td>24.98298</td>\n",
       "      <td>121.54024</td>\n",
       "      <td>37.9</td>\n",
       "    </tr>\n",
       "    <tr>\n",
       "      <th>1</th>\n",
       "      <td>2</td>\n",
       "      <td>2012.917</td>\n",
       "      <td>19.5</td>\n",
       "      <td>306.59470</td>\n",
       "      <td>9</td>\n",
       "      <td>24.98034</td>\n",
       "      <td>121.53951</td>\n",
       "      <td>42.2</td>\n",
       "    </tr>\n",
       "    <tr>\n",
       "      <th>2</th>\n",
       "      <td>3</td>\n",
       "      <td>2013.583</td>\n",
       "      <td>13.3</td>\n",
       "      <td>561.98450</td>\n",
       "      <td>5</td>\n",
       "      <td>24.98746</td>\n",
       "      <td>121.54391</td>\n",
       "      <td>47.3</td>\n",
       "    </tr>\n",
       "    <tr>\n",
       "      <th>3</th>\n",
       "      <td>4</td>\n",
       "      <td>2013.500</td>\n",
       "      <td>13.3</td>\n",
       "      <td>561.98450</td>\n",
       "      <td>5</td>\n",
       "      <td>24.98746</td>\n",
       "      <td>121.54391</td>\n",
       "      <td>54.8</td>\n",
       "    </tr>\n",
       "    <tr>\n",
       "      <th>4</th>\n",
       "      <td>5</td>\n",
       "      <td>2012.833</td>\n",
       "      <td>5.0</td>\n",
       "      <td>390.56840</td>\n",
       "      <td>5</td>\n",
       "      <td>24.97937</td>\n",
       "      <td>121.54245</td>\n",
       "      <td>43.1</td>\n",
       "    </tr>\n",
       "  </tbody>\n",
       "</table>\n",
       "</div>"
      ],
      "text/plain": [
       "   No  X1 transaction date  X2 house age  \\\n",
       "0   1             2012.917          32.0   \n",
       "1   2             2012.917          19.5   \n",
       "2   3             2013.583          13.3   \n",
       "3   4             2013.500          13.3   \n",
       "4   5             2012.833           5.0   \n",
       "\n",
       "   X3 distance to the nearest MRT station  X4 number of convenience stores  \\\n",
       "0                                84.87882                               10   \n",
       "1                               306.59470                                9   \n",
       "2                               561.98450                                5   \n",
       "3                               561.98450                                5   \n",
       "4                               390.56840                                5   \n",
       "\n",
       "   X5 latitude  X6 longitude  Y house price of unit area  \n",
       "0     24.98298     121.54024                        37.9  \n",
       "1     24.98034     121.53951                        42.2  \n",
       "2     24.98746     121.54391                        47.3  \n",
       "3     24.98746     121.54391                        54.8  \n",
       "4     24.97937     121.54245                        43.1  "
      ]
     },
     "execution_count": 631,
     "metadata": {},
     "output_type": "execute_result"
    }
   ],
   "source": [
    "df2.head()"
   ]
  },
  {
   "cell_type": "code",
   "execution_count": 648,
   "metadata": {},
   "outputs": [
    {
     "name": "stderr",
     "output_type": "stream",
     "text": [
      "F:\\Anacondaa\\lib\\site-packages\\ipykernel_launcher.py:1: DeprecationWarning: time.clock has been deprecated in Python 3.3 and will be removed from Python 3.8: use time.perf_counter or time.process_time instead\n",
      "  \"\"\"Entry point for launching an IPython kernel.\n"
     ]
    },
    {
     "name": "stdout",
     "output_type": "stream",
     "text": [
      "list of feat [1. 1. 1. 1. 1. 1.]\n",
      "y shape (414,)\n",
      "inputT shape (6, 414)\n",
      "[-0.07996699  0.98909753  0.00112964  0.99831466  0.98660758  0.93480718]\n"
     ]
    },
    {
     "name": "stderr",
     "output_type": "stream",
     "text": [
      "F:\\Anacondaa\\lib\\site-packages\\ipykernel_launcher.py:28: DeprecationWarning: time.clock has been deprecated in Python 3.3 and will be removed from Python 3.8: use time.perf_counter or time.process_time instead\n"
     ]
    }
   ],
   "source": [
    "start=time.clock()\n",
    "r2,c2=df2.shape\n",
    "list_of_feat=np.ones(c2-2) #making initial guesses\n",
    "print(\"list of feat\",list_of_feat)\n",
    "y=df.iloc[:,-1]  #output\n",
    "print(\"y shape\",y.shape)\n",
    "input_feat=df2.iloc[:,1:c2-1]\n",
    "input_feat=input_feat.values\n",
    "\n",
    "#input_feat[:]=1\n",
    "#print(\"input_feat\",input_feat)\n",
    "inputT=np.transpose(input_feat)\n",
    "print(\"inputT shape\",inputT.shape)\n",
    "\n",
    "for i in range(1,1000):\n",
    "#error=((np.dot(input_feat,list_of_feat)))\n",
    "    temp=input_feat-((np.dot(inputT,(np.dot(input_feat,list_of_feat)- y)))*(0.0001/r2))\n",
    "    input_feat=temp\n",
    "\n",
    "#print(input_feat)\n",
    "\n",
    "for i in range(1,1000):\n",
    "#error=((np.dot(input_feat,list_of_feat)))\n",
    "    temp=list_of_feat-((np.dot(inputT,(np.dot(input_feat,list_of_feat)- y)))*(0.00000001/r2))\n",
    "    list_of_feat=temp\n",
    "    #print(temp)\n",
    "print(list_of_feat)\n",
    "t2=time.clock()-start\n",
    "#input_feat=(np.dot(inputT,(np.dot(input_feat.values,np.transpose(list_of_feat)- y)))*(0.01/r2)\n",
    "\n",
    "#for i in range(1,100):\n",
    "#    list_of_feat=list_of_feat-(np.sum((np.dot(input_feat.values,list_of_feat))-y)*input_feat.iloc[:,:])#i,j\n",
    "#print(list_of_feat)"
   ]
  },
  {
   "cell_type": "code",
   "execution_count": 659,
   "metadata": {},
   "outputs": [
    {
     "name": "stdout",
     "output_type": "stream",
     "text": [
      "Mean Square Error for gradient descent is 1783.7846399639957\n",
      "time taken for gradient is 1.3132249260088429\n"
     ]
    }
   ],
   "source": [
    "error_grad=np.sum(((df2.iloc[:,1:7]@list_of_feat)-df2.iloc[:,7])**2)/len(df2)\n",
    "print(\"Mean Square Error for gradient descent is\",error_grad)\n",
    "print(\"time taken for gradient is\",t2)"
   ]
  },
  {
   "cell_type": "code",
   "execution_count": 652,
   "metadata": {},
   "outputs": [],
   "source": [
    "#normalEquationRegression(input_feat)"
   ]
  },
  {
   "cell_type": "markdown",
   "metadata": {},
   "source": [
    "### 4(c) Autograd"
   ]
  },
  {
   "cell_type": "code",
   "execution_count": 661,
   "metadata": {},
   "outputs": [
    {
     "name": "stderr",
     "output_type": "stream",
     "text": [
      "F:\\Anacondaa\\lib\\site-packages\\ipykernel_launcher.py:4: DeprecationWarning: time.clock has been deprecated in Python 3.3 and will be removed from Python 3.8: use time.perf_counter or time.process_time instead\n",
      "  after removing the cwd from sys.path.\n"
     ]
    },
    {
     "name": "stdout",
     "output_type": "stream",
     "text": [
      "list of feat [1. 1. 1. 1. 1. 1.]\n",
      "y shape (414,)\n",
      "inputT shape (6, 414)\n",
      "[-0.07985289  0.98911044  0.00113046  0.99831567  0.986609    0.93481407]\n",
      "[-0.07985289  0.98911044  0.00113046  0.99831567  0.986609    0.93481407]\n"
     ]
    },
    {
     "name": "stderr",
     "output_type": "stream",
     "text": [
      "F:\\Anacondaa\\lib\\site-packages\\ipykernel_launcher.py:32: DeprecationWarning: time.clock has been deprecated in Python 3.3 and will be removed from Python 3.8: use time.perf_counter or time.process_time instead\n"
     ]
    }
   ],
   "source": [
    "import autograd \n",
    "#import grad from autograd\n",
    "from autograd import grad\n",
    "start=time.clock()\n",
    "r2,c2=df2.shape\n",
    "list_of_feat2=np.ones(c2-2) #making initial guesses\n",
    "print(\"list of feat\",list_of_feat2)\n",
    "y=df.iloc[:,-1]  #output\n",
    "print(\"y shape\",y.shape)\n",
    "input_feat=df2.iloc[:,1:c2-1]\n",
    "input_feat=input_feat.values\n",
    "\n",
    "#input_feat[:]=1\n",
    "#print(\"input_feat\",input_feat)\n",
    "inputT=np.transpose(input_feat)\n",
    "print(\"inputT shape\",inputT.shape)\n",
    "\n",
    "def cost(list_of_feat2,input_feat,y):\n",
    "    #cst=(np.dot(input_feat,list_of_feat)- y)**2\n",
    "    cst=((np.sum(np.square(np.dot(input_feat,list_of_feat2)-y)))/(2*r2))\n",
    "    return cst\n",
    "\n",
    "diff_cost=grad(cost)\n",
    "for i in range(1,100):\n",
    "#error=((np.dot(input_feat,list_of_feat)))\n",
    "    #temp=list_of_feat-((np.dot(inputT,(np.dot(input_feat,list_of_feat)- y)))*(0.000000001/r2))\n",
    "    temp=list_of_feat2-0.0000001*diff_cost(list_of_feat2,input_feat,y)\n",
    "    #print(\"temp is\",temp)\n",
    "    #print(\"mannual is\",(np.sum(np.square(np.dot(input_feat,list_of_feat)-y)))/(2*r2))\n",
    "    list_of_feat2=temp\n",
    "print(temp)\n",
    "t3=time.clock()-start\n",
    "print(list_of_feat)\n",
    "\n"
   ]
  },
  {
   "cell_type": "code",
   "execution_count": 662,
   "metadata": {},
   "outputs": [
    {
     "name": "stdout",
     "output_type": "stream",
     "text": [
      "Mean Square Error for autograd is 1783.7846399639957\n",
      "time taken for gradient is 83.75561231002212\n"
     ]
    }
   ],
   "source": [
    "error_grad=np.sum(((df2.iloc[:,1:7]@list_of_feat2)-df2.iloc[:,7])**2)/len(df2)\n",
    "print(\"Mean Square Error for autograd is\",error_grad)\n",
    "print(\"time taken for gradient is\",t3)"
   ]
  },
  {
   "cell_type": "markdown",
   "metadata": {},
   "source": [
    "## Qn No 5"
   ]
  },
  {
   "cell_type": "code",
   "execution_count": 323,
   "metadata": {},
   "outputs": [
    {
     "data": {
      "image/png": "[encoded data removed]",
      "text/plain": [
       "<Figure size 432x288 with 1 Axes>"
      ]
     },
     "metadata": {
      "needs_background": "light"
     },
     "output_type": "display_data"
    }
   ],
   "source": [
    "import numpy as np\n",
    "x = np.arange(0, 20.1, 0.1)\n",
    "np.random.seed(0)\n",
    "y = 1*x**5 + 3*x**4 - 100*x**3 + 8*x**2 -300*x - 1e5 + np.random.randn(len(x))*1e5\n",
    "plt.scatter(x,y)\n",
    "plt.show()"
   ]
  },
  {
   "cell_type": "markdown",
   "metadata": {},
   "source": [
    "### Question No 5: for p=5"
   ]
  },
  {
   "cell_type": "code",
   "execution_count": 365,
   "metadata": {},
   "outputs": [
    {
     "name": "stdout",
     "output_type": "stream",
     "text": [
      "Output Coefficents are [-6.30939906e+03 -2.52719053e+04  6.27056363e+03 -5.87613548e+02\n",
      "  2.44062138e+01 -3.32791161e-01]\n"
     ]
    },
    {
     "data": {
      "image/png": "[encoded data removed]",
      "text/plain": [
       "<Figure size 432x288 with 1 Axes>"
      ]
     },
     "metadata": {
      "needs_background": "light"
     },
     "output_type": "display_data"
    }
   ],
   "source": [
    "#print(x)\n",
    "import numpy as np\n",
    "in_data=np.ones((len(x),6),dtype=float)\n",
    "#print(in_data)\n",
    "for i in range(1,6):\n",
    "    in_data[:,i]=x**(i+1)\n",
    "in_data2=in_data[:,0:6]\n",
    "#print(in_data2)\n",
    "#print(in_data)\n",
    "#np.dot(in_data2.transpose(),in_data2)\n",
    "np.linalg.pinv(np.dot(in_data2.transpose(),in_data2))\n",
    "x5=np.dot((np.dot((np.linalg.pinv(np.dot(in_data2.transpose(),in_data2))),in_data2.transpose())),y)\n",
    "\n",
    "print(\"Output Coefficents are\",x5)\n",
    "\n",
    "\n",
    "#example check-----------------\n",
    "in_data3=np.ones((len(in_data),7),dtype=float)\n",
    "in_data3[:,0:6]=in_data\n",
    "#print(in_data3)\n",
    "in_data3[:,6]=y\n",
    "#print(y)\n",
    "y_pred5=np.dot(in_data2,x5)\n",
    "#plt.scatter(in_data[:,1],y)\n",
    "plt.scatter(x,y)\n",
    "#plt.plot(in_data[:,1],y_pred5,'r')\n",
    "plt.plot(x,y_pred5,'r')\n",
    "plt.show()"
   ]
  },
  {
   "cell_type": "code",
   "execution_count": 363,
   "metadata": {},
   "outputs": [
    {
     "data": {
      "text/plain": [
       "\"x52=normalEquationRegression(in_data3)\\ny_pred52=np.dot(in_data2,x52)\\nplt.scatter(in_data[:,1],y)\\nplt.plot(in_data[:,1],y_pred52,'r')\\nplt.show()\\nprint(y_pred52) \""
      ]
     },
     "execution_count": 363,
     "metadata": {},
     "output_type": "execute_result"
    }
   ],
   "source": [
    "'''x52=normalEquationRegression(in_data3)\n",
    "y_pred52=np.dot(in_data2,x52)\n",
    "plt.scatter(in_data[:,1],y)\n",
    "plt.plot(in_data[:,1],y_pred52,'r')\n",
    "plt.show()\n",
    "print(y_pred52) '''"
   ]
  },
  {
   "cell_type": "markdown",
   "metadata": {},
   "source": [
    "### Qn 5: For p=4"
   ]
  },
  {
   "cell_type": "code",
   "execution_count": 338,
   "metadata": {},
   "outputs": [
    {
     "name": "stdout",
     "output_type": "stream",
     "text": [
      "[-3.95215474e+04 -1.37730165e+04  2.83871094e+03 -2.03316728e+02\n",
      "  5.69732934e+00]\n"
     ]
    },
    {
     "data": {
      "image/png": "[encoded data removed]",
      "text/plain": [
       "<Figure size 432x288 with 1 Axes>"
      ]
     },
     "metadata": {
      "needs_background": "light"
     },
     "output_type": "display_data"
    }
   ],
   "source": [
    "in_data2=in_data[:,0:5]\n",
    "#print(in_data2)\n",
    "x4=np.dot((np.dot((np.linalg.pinv(np.dot(in_data2.transpose(),in_data2))),in_data2.transpose())),y)\n",
    "y_pred4=np.dot(in_data2,x4)\n",
    "print(x4)\n",
    "plt.scatter(in_data2[:,1],y)\n",
    "\n",
    "plt.plot(in_data[:,1],y_pred4,'r')\n",
    "plt.show()"
   ]
  },
  {
   "cell_type": "markdown",
   "metadata": {},
   "source": [
    "## Qn No 6(A): Contour plotting "
   ]
  },
  {
   "cell_type": "code",
   "execution_count": 567,
   "metadata": {},
   "outputs": [
    {
     "name": "stdout",
     "output_type": "stream",
     "text": [
      "theta is [[0]\n",
      " [0]]\n",
      "x is [[1 1]\n",
      " [1 3]\n",
      " [1 6]]\n",
      "y is [[ 6]\n",
      " [10]\n",
      " [16]]\n",
      "[[2.31040000e+02 1.87142400e+02 2.25426869e+02 2.13304510e+02\n",
      "  2.32365956e+02]\n",
      " [1.39764938e+02 1.78014894e+02 1.44192064e+02 1.54188695e+02\n",
      "  1.38737012e+02]\n",
      " [1.83057207e+01 7.60942442e+00 1.67505268e+01 1.35679267e+01\n",
      "  1.86803158e+01]\n",
      " [3.35358240e+01 5.34509015e+01 3.57220202e+01 4.07818159e+01\n",
      "  3.30332709e+01]\n",
      " [1.16643331e-03 2.20774105e+00 2.29900470e-02 3.14607425e-01\n",
      "  6.03847954e-03]]\n"
     ]
    },
    {
     "data": {
      "image/png": "[encoded data removed]",
      "text/plain": [
       "<Figure size 432x288 with 1 Axes>"
      ]
     },
     "metadata": {
      "needs_background": "light"
     },
     "output_type": "display_data"
    },
    {
     "data": {
      "image/png": "[encoded data removed]",
      "text/plain": [
       "<Figure size 432x288 with 1 Axes>"
      ]
     },
     "metadata": {
      "needs_background": "light"
     },
     "output_type": "display_data"
    }
   ],
   "source": [
    "import pprint\n",
    "x=((np.array([[1,1,1],[1,3,6]])).transpose())\n",
    "y=(np.array([[6,10,16]])).transpose()\n",
    "theta=(np.array([[0,0]])).transpose()\n",
    "theta0=np.zeros((1,5), dtype=float)\n",
    "theta1=np.zeros((1,5), dtype=float)\n",
    "final=np.zeros((5,5),dtype=float)\n",
    "#print(theta0)\n",
    "print(\"theta is\",theta)\n",
    "print(\"x is\",x)\n",
    "print(\"y is\",y)\n",
    "for i in range(1,6):\n",
    "    error=((x@theta)-y)\n",
    "    #print(error)\n",
    "    temp=theta-(((x.transpose())@error)*0.1/3)\n",
    "    theta=temp\n",
    "    theta0[0,i-1]=theta[0]\n",
    "    theta1[0,i-1]=theta[1]\n",
    "    \n",
    "#print(\"theta0 is\",theta0)\n",
    "    #print(\"theta is\",theta)\n",
    "#print(theta)\n",
    "#print(theta0)\n",
    "a1,a2=np.meshgrid(theta0,theta1)\n",
    "#print(\"initial a1\",a1)\n",
    "for i in range(0,5):\n",
    "    for j in range(0,5):\n",
    "        t1=((np.array([[a1[i,j],a2[i,j]]])).transpose())\n",
    "        #print(\"a1\",t1)\n",
    "        t2=((np.dot(x,t1)))\n",
    "        t3=(t2-y)\n",
    "        final[i,j]=((t3.sum())**2)\n",
    "        \n",
    "        #print(\"t3 is\",t3)\n",
    "        \n",
    "        #print(t1)\n",
    "#print(a1)\n",
    "#print(a2)\n",
    "print(final)\n",
    "cm = plt.cm.get_cmap('viridis')\n",
    "plt.scatter(a1, a2, c=final, cmap=cm)\n",
    "plt.show()\n",
    "cp = plt.contour(a1, a2, final)\n",
    "plt.clabel(cp, inline=1, fontsize=10)\n",
    "plt.xlabel('T0')\n",
    "plt.ylabel('T1')\n",
    "plt.show()\n"
   ]
  },
  {
   "cell_type": "code",
   "execution_count": 575,
   "metadata": {},
   "outputs": [
    {
     "name": "stdout",
     "output_type": "stream",
     "text": [
      "theta is [[0]\n",
      " [0]]\n",
      "x is [[1 1]\n",
      " [1 3]\n",
      " [1 6]]\n",
      "y is [[ 6]\n",
      " [10]\n",
      " [16]]\n",
      "[[744.1984     729.38885184 716.84845635 706.18386999 697.07342629\n",
      "  689.2531533  682.50576001 676.65190213 671.54321132 667.05669876]\n",
      " [556.49858449 543.70217909 532.88250573 523.69313291 515.85176737\n",
      "  509.12748308 503.33072446 498.30542565 493.92275592 490.0761245 ]\n",
      " [420.10739284 408.99891056 399.62197972 391.66950233 384.89219763\n",
      "  379.08684701 374.08714973 369.75655773 365.98262167 362.67249973]\n",
      " [320.52086195 310.82735237 302.65986127 295.74426359 289.85895275\n",
      "  284.82393701 280.49240999 276.74418527 273.48054586 270.62017561]\n",
      " [247.41847939 238.91086132 231.75700413 225.71041746 220.57268848\n",
      "  216.18329198 212.41175982 209.1516183  206.31565956 203.83222712]\n",
      " [193.44284557 185.92885698 179.62429884 174.30583523 169.7944868\n",
      "  165.94603886 162.64371269 159.79252413 157.31490856 155.14730308]\n",
      " [153.33751311 146.65579406 141.06261349 136.35402976 132.36734115\n",
      "  128.9719947  126.06267806 123.55403076 121.37656541 119.47349833]\n",
      " [123.3375276  117.35265406 112.35509816 108.15715678 104.60975714\n",
      "  101.59378509  99.01352882  96.79168566  94.86553111  93.18395767]\n",
      " [100.73830909  95.3366249   90.83754672  87.06696144  83.88720233\n",
      "   81.18872834  78.88386239  76.90204533  75.18621257  73.69000694]\n",
      " [ 83.59044171  78.67656032  74.59442877  71.18130114  68.30905121\n",
      "   65.87614526  63.80162673  62.02057707  60.48066582  59.13950921]]\n"
     ]
    },
    {
     "data": {
      "image/png": "[encoded data removed]",
      "text/plain": [
       "<Figure size 432x288 with 1 Axes>"
      ]
     },
     "metadata": {
      "needs_background": "light"
     },
     "output_type": "display_data"
    },
    {
     "data": {
      "image/png": "[encoded data removed]",
      "text/plain": [
       "<Figure size 432x288 with 1 Axes>"
      ]
     },
     "metadata": {
      "needs_background": "light"
     },
     "output_type": "display_data"
    }
   ],
   "source": [
    "import pprint\n",
    "x=((np.array([[1,1,1],[1,3,6]])).transpose())\n",
    "y=(np.array([[6,10,16]])).transpose()\n",
    "theta=(np.array([[0,0]])).transpose()\n",
    "theta0=np.zeros((1,10), dtype=float)\n",
    "theta1=np.zeros((1,10), dtype=float)\n",
    "final=np.zeros((10,10),dtype=float)\n",
    "#print(theta0)\n",
    "print(\"theta is\",theta)\n",
    "print(\"x is\",x)\n",
    "print(\"y is\",y)\n",
    "for i in range(1,11):\n",
    "    error=((x@theta)-y)\n",
    "    #print(error)\n",
    "    temp=theta-(((x.transpose())@error)*(0.01/3))\n",
    "    theta=temp\n",
    "    theta0[0,i-1]=theta[0]\n",
    "    theta1[0,i-1]=theta[1]\n",
    "    \n",
    "#print(\"theta0 is\",theta0)\n",
    "    #print(\"theta is\",theta)\n",
    "#print(theta)\n",
    "#print(theta0)\n",
    "a1,a2=np.meshgrid(theta0,theta1)\n",
    "#print(\"initial a1\",a1)\n",
    "for i in range(0,10):\n",
    "    for j in range(0,10):\n",
    "        t1=((np.array([[a1[i,j],a2[i,j]]])).transpose())\n",
    "        #print(\"a1\",t1)\n",
    "        t2=((np.dot(x,t1)))\n",
    "        t3=(t2-y)\n",
    "        final[i,j]=((t3.sum())**2)\n",
    "        \n",
    "        #print(\"t3 is\",t3)\n",
    "        \n",
    "        #print(t1)\n",
    "#print(a1)\n",
    "#print(a2)\n",
    "print(final)\n",
    "cm = plt.cm.get_cmap('viridis')\n",
    "plt.scatter(a1, a2, c=final, cmap=cm)\n",
    "plt.show()\n",
    "cp = plt.contour(a1, a2, final)\n",
    "plt.clabel(cp, inline=1, fontsize=10)\n",
    "plt.xlabel('T0')\n",
    "plt.ylabel('T1')\n",
    "plt.show()\n"
   ]
  },
  {
   "cell_type": "markdown",
   "metadata": {},
   "source": [
    "   ## 6(b) Animation"
   ]
  },
  {
   "cell_type": "code",
   "execution_count": null,
   "metadata": {},
   "outputs": [],
   "source": []
  },
  {
   "cell_type": "markdown",
   "metadata": {},
   "source": [
    "## 3(e).(ii)"
   ]
  },
  {
   "cell_type": "code",
   "execution_count": null,
   "metadata": {},
   "outputs": [],
   "source": []
  },
  {
   "cell_type": "code",
   "execution_count": null,
   "metadata": {},
   "outputs": [],
   "source": []
  },
  {
   "cell_type": "code",
   "execution_count": null,
   "metadata": {},
   "outputs": [],
   "source": []
  },
  {
   "cell_type": "code",
   "execution_count": 560,
   "metadata": {},
   "outputs": [
    {
     "name": "stdout",
     "output_type": "stream",
     "text": [
      "list of feat [1. 1. 1. 1. 1. 1.]\n",
      "y shape (414,)\n",
      "inputT shape (6, 414)\n"
     ]
    },
    {
     "name": "stderr",
     "output_type": "stream",
     "text": [
      "F:\\Anacondaa\\lib\\site-packages\\autograd\\tracer.py:48: RuntimeWarning: overflow encountered in multiply\n",
      "  return f_raw(*args, **kwargs)\n",
      "F:\\Anacondaa\\lib\\site-packages\\ipykernel_launcher.py:20: RuntimeWarning: overflow encountered in square\n"
     ]
    },
    {
     "name": "stdout",
     "output_type": "stream",
     "text": [
      "[-1.32386820e+173 -1.17119732e+171 -9.88454881e+172 -2.30473976e+170\n",
      " -1.64182511e+171 -7.99187018e+171]\n"
     ]
    }
   ],
   "source": [
    "import autograd \n",
    "#import grad from autograd\n",
    "from autograd import grad\n",
    "\n",
    "r2,c2=df2.shape\n",
    "list_of_feat=np.ones(c2-2) #making initial guesses\n",
    "print(\"list of feat\",list_of_feat)\n",
    "y=df.iloc[:,-1]  #output\n",
    "print(\"y shape\",y.shape)\n",
    "input_feat=df2.iloc[:,1:c2-1]\n",
    "input_feat=input_feat.values\n",
    "\n",
    "#input_feat[:]=1\n",
    "#print(\"input_feat\",input_feat)\n",
    "inputT=np.transpose(input_feat)\n",
    "print(\"inputT shape\",inputT.shape)\n",
    "\n",
    "def cost(list_of_feat,input_feat,y):\n",
    "    #cst=(np.dot(input_feat,list_of_feat)- y)**2\n",
    "    cst=((np.sum(np.square(np.dot(input_feat,list_of_feat)-y)))/(2*r2))\n",
    "    return cst\n",
    "\n",
    "diff_cost=grad(cost)\n",
    "for i in range(1,100):\n",
    "#error=((np.dot(input_feat,list_of_feat)))\n",
    "    #temp=list_of_feat-((np.dot(inputT,(np.dot(input_feat,list_of_feat)- y)))*(0.00000001/r2))\n",
    "    temp=list_of_feat-0.00001*diff_cost(list_of_feat,input_feat,y)\n",
    "    #print(\"temp is\",temp)\n",
    "    #print(\"mannual is\",(np.sum(np.square(np.dot(input_feat,list_of_feat)-y)))/(2*r2))\n",
    "    list_of_feat=temp\n",
    "print(temp)\n",
    "#print(list_of_feat)"
   ]
  },
  {
   "cell_type": "markdown",
   "metadata": {},
   "source": [
    "###  I discussed the assignment with ashish Kumar, Shubham Garg, Deepanshu Singh"
   ]
  }
 ],
 "metadata": {
  "kernelspec": {
   "display_name": "Python 3",
   "language": "python",
   "name": "python3"
  },
  "language_info": {
   "codemirror_mode": {
    "name": "ipython",
    "version": 3
   },
   "file_extension": ".py",
   "mimetype": "text/x-python",
   "name": "python",
   "nbconvert_exporter": "python",
   "pygments_lexer": "ipython3",
   "version": "3.7.1"
  }
 },
 "nbformat": 4,
 "nbformat_minor": 2
}
